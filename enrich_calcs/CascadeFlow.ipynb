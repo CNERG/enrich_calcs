{
 "cells": [
  {
   "cell_type": "code",
   "execution_count": 145,
   "metadata": {
    "collapsed": false
   },
   "outputs": [
    {
     "name": "stdout",
     "output_type": "stream",
     "text": [
      "Populating the interactive namespace from numpy and matplotlib\n"
     ]
    },
    {
     "name": "stderr",
     "output_type": "stream",
     "text": [
      "WARNING: pylab import has clobbered these variables: ['step']\n",
      "`%matplotlib` prevents importing * from pylab and numpy\n"
     ]
    }
   ],
   "source": [
    "# Render our plots inline\n",
    "%matplotlib inline\n",
    "%pylab inline  \n",
    "import numpy as np\n",
    "import pandas as pd\n",
    "import matplotlib as mpl\n",
    "import matplotlib.pyplot as plt\n",
    "import matplotlib.mlab as mlab\n",
    "\n",
    "# General Plotting Parameters\n",
    "mpl.rcParams['figure.figsize'] = (8,5)\n",
    "mpl.rcParams['lines.linewidth'] = 2.5\n",
    "mpl.rcParams['font.weight'] = 'bold'\n",
    "mpl.rcParams['axes.linewidth'] = 1.5\n",
    "mpl.rcParams['font.size'] = 14.\n",
    "mpl.rcParams['legend.fontsize'] = 12.\n",
    "mpl.rcParams['axes.labelsize'] = 12.\n",
    "mpl.rcParams['xtick.labelsize'] = 10.\n",
    "mpl.rcParams['ytick.labelsize'] = 10.\n",
    "mpl.rcParams['xtick.minor.pad'] = 4\n",
    "mpl.rcParams['xtick.direction'] = 'out'\n",
    "mpl.rcParams['ytick.direction'] = 'out'\n",
    "\n",
    "#Git says this is patched, but it doesn't work from Pip --upgrade 26-mar-2015\n",
    "#mpl.rcParams['xtick.minor.visible'] = True  \n",
    "\n",
    "# These are the \"Tableau 20\" colors as RGB.  \n",
    "tableau20 = [(31, 119, 180), (174, 199, 232), (255, 127, 14),\n",
    "             (255, 187, 120), (44, 160, 44), (152, 223, 138),\n",
    "              (148, 103, 189),\n",
    "             (197, 176, 213), (140, 86, 75), (196, 156, 148),  \n",
    "             (227, 119, 194), (247, 182, 210), (127, 127, 127),\n",
    "             (199, 199, 199), (188, 189, 34), (219, 219, 141),\n",
    "             (23, 190, 207), (158, 218, 229),(214, 39, 40), (255, 152, 150)]  \n",
    "    \n",
    "# Scale the RGB values to the [0, 1] range,\n",
    "# which is the format matplotlib accepts.  \n",
    "for i in range(len(tableau20)): \n",
    "    r, g, b = tableau20[i]  \n",
    "    tableau20[i] = (r / 255., g / 255., b / 255.)  \n",
    "    \n",
    "plot_dir = './' \n",
    "\n",
    "ps = 1"
   ]
  },
  {
   "cell_type": "code",
   "execution_count": 146,
   "metadata": {
    "collapsed": false
   },
   "outputs": [],
   "source": [
    "import calc_enrich\n",
    "reload(calc_enrich)\n",
    "from calc_enrich import calc_del_U\n",
    "from calc_enrich import Npc_from_Nstages\n",
    "from calc_enrich import Nwc_from_Nstages\n",
    "from calc_enrich import calc_feed_flows\n",
    "from calc_enrich import find_N_stages\n",
    "from calc_enrich import design_cascade"
   ]
  },
  {
   "cell_type": "code",
   "execution_count": 147,
   "metadata": {
    "collapsed": false
   },
   "outputs": [],
   "source": [
    "# centrifuge params \n",
    "#omega = 64000\n",
    "#d = 0.1  # m \n",
    "#Z = 2.0   # m\n",
    "#F_m_hrs = 70 # grams/hr  \n",
    "#T = 320.0   # K\n",
    "#cut = 0.5\n",
    "eff = 1.0 # centrifuge efficiency\n",
    "\n",
    "d = 0.15  # m \n",
    "Z = 1.0   # m\n",
    "F_m_hrs = 15*60*60/(1e3) # grams/hr  \n",
    "T = 320.0# K\n",
    "cut = 0.5\n",
    "omega = 485/(d/2)\n",
    "\n",
    "# cascade params\n",
    "Nfc = 0.007\n",
    "Npc = 0.035\n",
    "Nwc = 0.003\n",
    "Fc_month = 739 #kg/month\n",
    "\n",
    "# The feed enrichment to be used when using a cascade designed for LEU to produce HEU.\n",
    "Nfc_mod = 0.20\n",
    "Fc_month_mod = Fc_month #kg/month\n",
    "#Fc_month_mod = 46 #kg/month\n",
    "\n",
    "#unit conversions\n",
    "kg_sec2kg_month = 30.4*24*60*60\n",
    "v_a = omega * (d/2.0)\n",
    "F_m = F_m_hrs/(60*60*1000.0)\n",
    "Fc = Fc_month/kg_sec2kg_month\n",
    "Fc_mod = Fc_month_mod/kg_sec2kg_month\n",
    "\n",
    "# Comparison numbers (not needed for calculations)\n",
    "del_U_th_yr = 1.1 #swu/yr\n",
    "del_U_obs_yr = 0.71 #Swu/yr\n",
    "del_U_th = del_U_th_yr/(365.25*24*60*60) #kgSWU/sec\n",
    "del_U_obs = del_U_obs_yr/(365.25*24*60*60)\n",
    "\n",
    "Pc_month = 77 #kg/month\n",
    "Pc = Pc_month/kg_sec2kg_month\n",
    "\n",
    "qty_len = 8\n",
    "assay_len = 4"
   ]
  },
  {
   "cell_type": "code",
   "execution_count": 148,
   "metadata": {
    "collapsed": false
   },
   "outputs": [
    {
     "name": "stdout",
     "output_type": "stream",
     "text": [
      "Stage   #Mach\t Feed    Product  Waste\t F_assay \tP_assay W_assay\n",
      "0 \t272 \t3762.18    1881.09    1881.09    0.007 \t0.0089 \t0.0055\n",
      "1 \t233 \t3224.73    1612.36    1612.36    0.0089 \t0.0112 \t0.007\n",
      "2 \t194 \t2687.27    1343.64    1343.64    0.0112 \t0.0142 \t0.0089\n",
      "3 \t156 \t2149.82    1074.91    1074.91    0.0142 \t0.018 \t0.0112\n",
      "4 \t117 \t1612.36    806.18    806.18    0.018 \t0.0228 \t0.0142\n",
      "5 \t78 \t1074.91    537.45    537.45    0.0228 \t0.0287 \t0.018\n",
      "6 \t39 \t537.45    268.73    268.73    0.0287 \t0.0362 \t0.0228\n",
      "-1 \t204 \t2821.64    1410.82    1410.82    0.0055 \t0.007 \t0.0044\n",
      "-2 \t136 \t1881.09    940.55    940.55    0.0044 \t0.0055 \t0.0034\n",
      "-3 \t68 \t940.55    470.27    470.27    0.0034 \t0.0044 \t0.0027\n",
      "total machines 1497\n"
     ]
    }
   ],
   "source": [
    "alpha, del_U, del_U_yr, dirac = calc_del_U(v_a, Z, d, F_m, T, cut, eff)\n",
    "\n",
    "# Find the number of stages needed for enriching and stripping \n",
    "# (don't use the stages_per_cascade fn because it only works when alpha is close to 1)\n",
    "\n",
    "ideal_enrich_stage, ideal_strip_stage = find_N_stages(alpha, Nfc, Npc, Nwc)\n",
    "feed_flows = calc_feed_flows(ideal_enrich_stage, ideal_strip_stage, Fc, cut)\n",
    "all_stages, n_machines = design_cascade(cut, alpha, del_U, Nfc, feed_flows, ideal_enrich_stage, ideal_strip_stage,\n",
    "                                        verbose=True, pretty=True, qty_len=qty_len)\n",
    "print \"total machines\", n_machines\n"
   ]
  },
  {
   "cell_type": "code",
   "execution_count": 149,
   "metadata": {
    "collapsed": false
   },
   "outputs": [
    {
     "data": {
      "text/plain": [
       "(6.0709128221690971, 12.969113590518578)"
      ]
     },
     "execution_count": 149,
     "metadata": {},
     "output_type": "execute_result"
    }
   ],
   "source": [
    "del_U_yr, dirac"
   ]
  },
  {
   "cell_type": "code",
   "execution_count": 150,
   "metadata": {
    "collapsed": false
   },
   "outputs": [
    {
     "name": "stdout",
     "output_type": "stream",
     "text": [
      "stage -3 Predicted flow  0.000358090222399  actual flow  0.000358090222399\n",
      "stage -2 Predicted flow  0.000716180444799  actual flow  0.000716180444799\n",
      "stage -1 Predicted flow  0.0010742706672  actual flow  0.0010742706672\n",
      "stage 0 Predicted flow  0.0014323608896  actual flow  0.0014323608896\n",
      "stage 1 Predicted flow  0.00122773790537  actual flow  0.00122773790537\n",
      "stage 2 Predicted flow  0.00102311492114  actual flow  0.00102311492114\n",
      "stage 3 Predicted flow  0.000818491936913  actual flow  0.000818491936913\n",
      "stage 4 Predicted flow  0.000613868952685  actual flow  0.000613868952685\n",
      "stage 5 Predicted flow  0.000409245968456  actual flow  0.000409245968456\n",
      "stage 6 Predicted flow  0.000204622984228  actual flow  0.000204622984228\n"
     ]
    }
   ],
   "source": [
    "tot_flow = 0\n",
    "p_last = 0\n",
    "w_next = 0\n",
    "for i in range(len(all_stages)):\n",
    "    if (i == 0):\n",
    "        p_last = 0\n",
    "    else:\n",
    "        p_last = all_stages[i-1][3]\n",
    "    if (i == len(all_stages)-1):\n",
    "        w_next = 0\n",
    "    else:\n",
    "        w_next = all_stages[i+1][4]\n",
    "    # If on stage zero then add feed also\n",
    "    if (i == (ideal_strip_stage)):\n",
    "        tot_flow = p_last+w_next+Fc\n",
    "    else:\n",
    "        tot_flow =  p_last+w_next\n",
    "    print \"stage\", i - ideal_strip_stage,\"Predicted flow \", feed_flows[i],\" actual flow \", tot_flow\n"
   ]
  },
  {
   "cell_type": "code",
   "execution_count": 151,
   "metadata": {
    "collapsed": false
   },
   "outputs": [
    {
     "name": "stdout",
     "output_type": "stream",
     "text": [
      "Casc. F (kg/s)  Casc. P\t\tCasc. W\t\t (P+W)/F\n",
      "0.000281356603314 \t0.000102311492114 \t0.0001790451112 \t1.0\n"
     ]
    }
   ],
   "source": [
    "## Check that mass is conserved in the cascade\n",
    "\n",
    "final_w = all_stages[0][4]\n",
    "final_p = all_stages[len(all_stages)-1][3]\n",
    "#final_f = round(Fc,qty_len)\n",
    "final_f = Fc\n",
    "\n",
    "res = final_f - final_p - final_w\n",
    "print \"Casc. F (kg/s)  Casc. P\\t\\tCasc. W\\t\\t (P+W)/F\"\n",
    "print  final_f, \"\\t\", final_p, \"\\t\", final_w, \"\\t\", (final_p+final_w)/final_f"
   ]
  },
  {
   "cell_type": "code",
   "execution_count": 152,
   "metadata": {
    "collapsed": false
   },
   "outputs": [
    {
     "name": "stdout",
     "output_type": "stream",
     "text": [
      "Stage   #Mach\t Feed    Product  Waste\t F_assay \tP_assay W_assay\n",
      "0 \t272 \t3762.18    1881.09    1881.09    0.2 \t0.241 \t0.1645\n",
      "1 \t233 \t3224.73    1612.36    1612.36    0.241 \t0.2873 \t0.2\n",
      "2 \t194 \t2687.27    1343.64    1343.64    0.2873 \t0.3386 \t0.241\n",
      "3 \t156 \t2149.82    1074.91    1074.91    0.3386 \t0.394 \t0.2873\n",
      "4 \t117 \t1612.36    806.18    806.18    0.394 \t0.4523 \t0.3386\n",
      "5 \t78 \t1074.91    537.45    537.45    0.4523 \t0.5119 \t0.394\n",
      "6 \t39 \t537.45    268.73    268.73    0.5119 \t0.5711 \t0.4523\n",
      "-1 \t204 \t2821.64    1410.82    1410.82    0.1645 \t0.2 \t0.1342\n",
      "-2 \t136 \t1881.09    940.55    940.55    0.1342 \t0.1645 \t0.1088\n",
      "-3 \t68 \t940.55    470.27    470.27    0.1088 \t0.1342 \t0.0877\n"
     ]
    }
   ],
   "source": [
    "## Determine cascade production rate for off-design use\n",
    "\n",
    "Npc_mod = Npc_from_Nstages(alpha, Nfc_mod, ideal_enrich_stage)\n",
    "Nwc_mod = Nwc_from_Nstages(alpha, Nfc_mod, ideal_strip_stage)\n",
    "\n",
    "feed_flow_mod = calc_feed_flows(ideal_enrich_stage, ideal_strip_stage, Fc_mod, cut)\n",
    "\n",
    "mod_stages, n_m = design_cascade(cut, alpha, del_U, Nfc_mod, feed_flow_mod, ideal_enrich_stage,\n",
    "                                 ideal_strip_stage, verbose=True, pretty=True, qty_len=qty_len)\n"
   ]
  },
  {
   "cell_type": "code",
   "execution_count": 153,
   "metadata": {
    "collapsed": false
   },
   "outputs": [
    {
     "name": "stdout",
     "output_type": "stream",
     "text": [
      "step size is 0.833333333333\n",
      "curr try 1 Tot mach 1249 # in last stage:  33\n",
      "curr try 2 Tot mach 1041 # in last stage:  27\n",
      "curr try 3 Tot mach 868 # in last stage:  23\n",
      "curr try 4 Tot mach 725 # in last stage:  19\n",
      "curr try 5 Tot mach 605 # in last stage:  16\n",
      "curr try 6 Tot mach 502 # in last stage:  13\n",
      "curr try 7 Tot mach 420 # in last stage:  11\n",
      "curr try 8 Tot mach 355 # in last stage:  10\n",
      "curr try 9 Tot mach 296 # in last stage:  8\n",
      "curr try 10 Tot mach 245 # in last stage:  7\n",
      "curr try 11 Tot mach 207 # in last stage:  6\n",
      "curr try 12 Tot mach 173 # in last stage:  5\n",
      "curr try 13 Tot mach 145 # in last stage:  4\n",
      "curr try 14 Tot mach 124 # in last stage:  4\n",
      "curr try 15 Tot mach 103 # in last stage:  3\n",
      "curr try 16 Tot mach 87 # in last stage:  3\n",
      "reduced flow to correct # 87\n",
      "Stage   #Mach\t Feed    Product  Waste\t F_assay \tP_assay W_assay\n",
      "0 \t15 \t203.49    101.74    101.74    0.007 \t0.0089 \t0.0055\n",
      "1 \t13 \t174.42    87.21    87.21    0.0089 \t0.0112 \t0.007\n",
      "2 \t11 \t145.35    72.67    72.67    0.0112 \t0.0142 \t0.0089\n",
      "3 \t9 \t116.28    58.14    58.14    0.0142 \t0.018 \t0.0112\n",
      "4 \t7 \t87.21    43.6    43.6    0.018 \t0.0228 \t0.0142\n",
      "5 \t5 \t58.14    29.07    29.07    0.0228 \t0.0287 \t0.018\n",
      "6 \t3 \t29.07    14.53    14.53    0.0287 \t0.0362 \t0.0228\n",
      "-1 \t12 \t152.62    76.31    76.31    0.0055 \t0.007 \t0.0044\n",
      "-2 \t8 \t101.74    50.87    50.87    0.0044 \t0.0055 \t0.0034\n",
      "-3 \t4 \t50.87    25.44    25.44    0.0034 \t0.0044 \t0.0027\n",
      "Cascade can process  39.970952877  kg/month\n",
      "Final total machines 87\n",
      "[-3, 4, 1.9368345609278197e-05, 9.6841728046390986e-06, 9.6841728046390986e-06, 0.0034300721715424167, 0.0043519686344418275, 0.0027029348883975029]\n"
     ]
    }
   ],
   "source": [
    "## Design Cascade based on available number of centrifuges, determine max Fc\n",
    "max_centrifuges = 100\n",
    "curr_feed = Fc\n",
    "optimal_feed = Fc\n",
    "step_size = 1.2  # MUST be a number Greater than 1. \n",
    "step = 1\n",
    "ideal_enrich_stage, ideal_strip_stage = find_N_stages(alpha, Nfc, Npc, Nwc)\n",
    "feed_flows = calc_feed_flows(ideal_enrich_stage, ideal_strip_stage, curr_feed, cut)\n",
    "all_stages, n_centrifuges = design_cascade(cut, alpha, del_U, Nfc, feed_flows, ideal_enrich_stage, ideal_strip_stage)\n",
    "\n",
    "optimum_number = False\n",
    "neg_inc = False\n",
    "pos_inc = False\n",
    "\n",
    "if (n_centrifuges < max_centrifuges):\n",
    "    pos_inc = True\n",
    "    step = step_size\n",
    "elif (n_centrifuges > max_centrifuges):\n",
    "    neg_inc = True\n",
    "    step = 1.0/step_size\n",
    "else:\n",
    "    optimum_number = True\n",
    "ntries=0\n",
    "print \"step size is\", step\n",
    "while (optimum_number == False) and (ntries < 100):\n",
    "    ntries+=1\n",
    "    last_feed = curr_feed\n",
    "    curr_feed *= step\n",
    "    feed_flows = calc_feed_flows(ideal_enrich_stage, ideal_strip_stage, curr_feed, cut)\n",
    "    all_stages, n_centrifuges = design_cascade(cut, alpha, del_U, Nfc, feed_flows, ideal_enrich_stage, \n",
    "                                               ideal_strip_stage)\n",
    "    print \"curr try\", ntries, \"Tot mach\", n_centrifuges, \"# in last stage: \", all_stages[-1][1]\n",
    "    if (all_stages[-1][1] < 1):\n",
    "        print \"not enough centrifuges to fill all stages\"\n",
    "        optimum_number = True\n",
    "        optimal_feed = last_feed\n",
    "    elif (neg_inc == True) and (n_centrifuges < max_centrifuges):\n",
    "        optimum_number = True\n",
    "        optimal_feed = curr_feed\n",
    "        print \"reduced flow to correct #\", n_centrifuges\n",
    "    elif (pos_inc == True) and (n_centrifuges > max_centrifuges):\n",
    "        optimum_number = True\n",
    "        optimal_feed = last_feed\n",
    "        print \"increased flow to correct #\", n_centrifuges\n",
    "\n",
    "final_feed_flows = calc_feed_flows(ideal_enrich_stage, ideal_strip_stage, optimal_feed, cut)\n",
    "final_stages, final_n_mach = design_cascade(cut, alpha, del_U, Nfc, final_feed_flows, \n",
    "                                            ideal_enrich_stage, ideal_strip_stage, verbose=True, pretty=True)\n",
    "print \"Cascade can process \", optimal_feed*kg_sec2kg_month, \" kg/month\"\n",
    "print \"Final total machines\", final_n_mach\n",
    "print final_stages[:][0]"
   ]
  },
  {
   "cell_type": "code",
   "execution_count": 154,
   "metadata": {
    "collapsed": false
   },
   "outputs": [],
   "source": [
    "## A cascade with a fixed number of centrifuges has a maximum flow rate already defined\n",
    "## This flow rate and production does not change with change to feed assay. Therefore the\n",
    "## only things that change with a modified cascade are the product and waste assays"
   ]
  },
  {
   "cell_type": "code",
   "execution_count": 155,
   "metadata": {
    "collapsed": false
   },
   "outputs": [
    {
     "data": {
      "image/png": "[encoded data removed]",
      "text/plain": [
       "<matplotlib.figure.Figure at 0x112f1c910>"
      ]
     },
     "metadata": {},
     "output_type": "display_data"
    }
   ],
   "source": [
    "all_stages = []\n",
    "\n",
    "for s in range(len(final_stages)):\n",
    "    all_stages.append([final_stages[s][0],final_stages[s][1]])\n",
    "\n",
    "fs = np.array(all_stages)\n",
    "bar_width = 0.8\n",
    "bar_res = plt.bar(fs[:,0]-0.4, fs[:,1], bar_width)\n",
    "\n",
    "plt.xlabel('Stage')\n",
    "plt.ylabel('# Centrifuges')\n",
    "plt.title(str(int(final_n_mach)) + \" Centrifuge Cascade\")\n",
    "plt.legend()\n",
    "plt.ylim((0,1.2*fs[:,1].max()))\n",
    "plt.tight_layout()\n",
    "\n",
    "if ps == 1:\n",
    "    savefig(plot_dir + 'cascade_design.png')\n",
    "\n",
    "plt.show()\n"
   ]
  },
  {
   "cell_type": "code",
   "execution_count": null,
   "metadata": {
    "collapsed": true
   },
   "outputs": [],
   "source": []
  }
 ],
 "metadata": {
  "kernelspec": {
   "display_name": "Python 2",
   "language": "python",
   "name": "python2"
  },
  "language_info": {
   "codemirror_mode": {
    "name": "ipython",
    "version": 2
   },
   "file_extension": ".py",
   "mimetype": "text/x-python",
   "name": "python",
   "nbconvert_exporter": "python",
   "pygments_lexer": "ipython2",
   "version": "2.7.10"
  }
 },
 "nbformat": 4,
 "nbformat_minor": 0
}
