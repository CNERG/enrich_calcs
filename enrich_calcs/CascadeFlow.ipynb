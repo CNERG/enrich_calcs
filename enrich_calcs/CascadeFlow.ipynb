{
 "cells": [
  {
   "cell_type": "code",
   "execution_count": 1,
   "metadata": {
    "collapsed": false
   },
   "outputs": [
    {
     "name": "stdout",
     "output_type": "stream",
     "text": [
      "Populating the interactive namespace from numpy and matplotlib\n"
     ]
    }
   ],
   "source": [
    "# Render our plots inline\n",
    "%matplotlib inline\n",
    "%pylab inline  \n",
    "import numpy as np\n",
    "import pandas as pd\n",
    "import matplotlib as mpl\n",
    "import matplotlib.pyplot as plt\n",
    "import matplotlib.mlab as mlab\n",
    "\n",
    "# General Plotting Parameters\n",
    "mpl.rcParams['figure.figsize'] = (8,5)\n",
    "mpl.rcParams['lines.linewidth'] = 2.5\n",
    "mpl.rcParams['font.weight'] = 'bold'\n",
    "mpl.rcParams['axes.linewidth'] = 1.5\n",
    "mpl.rcParams['font.size'] = 14.\n",
    "mpl.rcParams['legend.fontsize'] = 12.\n",
    "mpl.rcParams['axes.labelsize'] = 12.\n",
    "mpl.rcParams['xtick.labelsize'] = 10.\n",
    "mpl.rcParams['ytick.labelsize'] = 10.\n",
    "mpl.rcParams['xtick.minor.pad'] = 4\n",
    "mpl.rcParams['xtick.direction'] = 'out'\n",
    "mpl.rcParams['ytick.direction'] = 'out'\n",
    "\n",
    "#Git says this is patched, but it doesn't work from Pip --upgrade 26-mar-2015\n",
    "#mpl.rcParams['xtick.minor.visible'] = True  \n",
    "\n",
    "# These are the \"Tableau 20\" colors as RGB.  \n",
    "tableau20 = [(31, 119, 180), (174, 199, 232), (255, 127, 14),\n",
    "             (255, 187, 120), (44, 160, 44), (152, 223, 138),\n",
    "              (148, 103, 189),\n",
    "             (197, 176, 213), (140, 86, 75), (196, 156, 148),  \n",
    "             (227, 119, 194), (247, 182, 210), (127, 127, 127),\n",
    "             (199, 199, 199), (188, 189, 34), (219, 219, 141),\n",
    "             (23, 190, 207), (158, 218, 229),(214, 39, 40), (255, 152, 150)]  \n",
    "    \n",
    "# Scale the RGB values to the [0, 1] range,\n",
    "# which is the format matplotlib accepts.  \n",
    "for i in range(len(tableau20)): \n",
    "    r, g, b = tableau20[i]  \n",
    "    tableau20[i] = (r / 255., g / 255., b / 255.)  "
   ]
  },
  {
   "cell_type": "code",
   "execution_count": 2,
   "metadata": {
    "collapsed": false
   },
   "outputs": [],
   "source": [
    "import calc_enrich\n",
    "reload(calc_enrich)\n",
    "from calc_enrich import calc_del_U\n",
    "from calc_enrich import Npc_from_Nstages\n",
    "from calc_enrich import Nwc_from_Nstages\n",
    "from calc_enrich import calc_feed_flows\n",
    "from calc_enrich import find_N_stages\n",
    "from calc_enrich import design_cascade"
   ]
  },
  {
   "cell_type": "code",
   "execution_count": 3,
   "metadata": {
    "collapsed": false
   },
   "outputs": [],
   "source": [
    "# centrifuge params \n",
    "#omega = 64000\n",
    "#d = 0.1  # m \n",
    "#Z = 2.0   # m\n",
    "#F_m_hrs = 70 # grams/hr  \n",
    "#T = 320.0   # K\n",
    "#cut = 0.5\n",
    "eff = 1.0 # centrifuge efficiency\n",
    "\n",
    "d = 0.15  # m \n",
    "Z = 1.0   # m\n",
    "F_m_hrs = 15*60*60/(1e3) # grams/hr  \n",
    "T = 320.0# K\n",
    "cut = 0.5\n",
    "omega = 485/(d/2)\n",
    "\n",
    "# cascade params\n",
    "Nfc = 0.007\n",
    "Npc = 0.035\n",
    "Nwc = 0.003\n",
    "Fc_month = 739 #kg/month\n",
    "\n",
    "# The feed enrichment to be used when using a cascade designed for LEU to produce HEU.\n",
    "Nfc_mod = 0.20\n",
    "Fc_month_mod = Fc_month #kg/month\n",
    "#Fc_month_mod = 46 #kg/month\n",
    "\n",
    "#unit conversions\n",
    "kg_sec2kg_month = 30.4*24*60*60\n",
    "v_a = omega * (d/2.0)\n",
    "F_m = F_m_hrs/(60*60*1000.0)\n",
    "Fc = Fc_month/kg_sec2kg_month\n",
    "Fc_mod = Fc_month_mod/kg_sec2kg_month\n",
    "\n",
    "# Comparison numbers (not needed for calculations)\n",
    "del_U_th_yr = 1.1 #swu/yr\n",
    "del_U_obs_yr = 0.71 #Swu/yr\n",
    "del_U_th = del_U_th_yr/(365.25*24*60*60) #kgSWU/sec\n",
    "del_U_obs = del_U_obs_yr/(365.25*24*60*60)\n",
    "\n",
    "Pc_month = 77 #kg/month\n",
    "Pc = Pc_month/kg_sec2kg_month\n",
    "\n",
    "qty_len = 8\n",
    "assay_len = 4"
   ]
  },
  {
   "cell_type": "code",
   "execution_count": 4,
   "metadata": {
    "collapsed": false
   },
   "outputs": [
    {
     "name": "stdout",
     "output_type": "stream",
     "text": [
      "Stage   #Mach\t Feed    Product  Waste\t F_assay \tP_assay W_assay\n",
      "0 \t200.0 \t2771.25    1385.62    1385.62    0.007 \t0.0101 \t0.0049\n",
      "1 \t160.0 \t2217.0    1108.5    1108.5    0.0101 \t0.0145 \t0.007\n",
      "2 \t120.0 \t1662.75    831.38    831.38    0.0145 \t0.0208 \t0.0101\n",
      "3 \t80.0 \t1108.5    554.25    554.25    0.0208 \t0.0298 \t0.0145\n",
      "4 \t40.0 \t554.25    277.13    277.13    0.0298 \t0.0424 \t0.0208\n",
      "-1 \t133.0 \t1847.5    923.75    923.75    0.0049 \t0.007 \t0.0034\n",
      "-2 \t67.0 \t923.75    461.87    461.87    0.0034 \t0.0049 \t0.0023\n",
      "total machines 800.0\n"
     ]
    }
   ],
   "source": [
    "alpha, del_U, del_U_yr, dirac = calc_del_U(v_a, Z, d, F_m, T, cut, eff)\n",
    "\n",
    "# Find the number of stages needed for enriching and stripping \n",
    "# (don't use the stages_per_cascade fn because it only works when alpha is close to 1)\n",
    "\n",
    "ideal_enrich_stage, ideal_strip_stage = find_N_stages(alpha, Nfc, Npc, Nwc)\n",
    "feed_flows = calc_feed_flows(ideal_enrich_stage, ideal_strip_stage, Fc, cut)\n",
    "all_stages, n_machines = design_cascade(cut, alpha, del_U, Nfc, feed_flows, ideal_enrich_stage, ideal_strip_stage,\n",
    "                                        verbose=True, pretty=True, qty_len=qty_len)\n",
    "print \"total machines\", n_machines\n"
   ]
  },
  {
   "cell_type": "code",
   "execution_count": 5,
   "metadata": {
    "collapsed": false
   },
   "outputs": [
    {
     "name": "stdout",
     "output_type": "stream",
     "text": [
      "stage -2 Predicted flow  0.000351695754142  actual flow  0.000351695754142\n",
      "stage -1 Predicted flow  0.000703391508285  actual flow  0.000703391508285\n",
      "stage 0 Predicted flow  0.00105508726243  actual flow  0.00105508726243\n",
      "stage 1 Predicted flow  0.000844069809942  actual flow  0.000844069809942\n",
      "stage 2 Predicted flow  0.000633052357456  actual flow  0.000633052357456\n",
      "stage 3 Predicted flow  0.000422034904971  actual flow  0.000422034904971\n",
      "stage 4 Predicted flow  0.000211017452485  actual flow  0.000211017452485\n"
     ]
    }
   ],
   "source": [
    "tot_flow = 0\n",
    "p_last = 0\n",
    "w_next = 0\n",
    "for i in range(len(all_stages)):\n",
    "    if (i == 0):\n",
    "        p_last = 0\n",
    "    else:\n",
    "        p_last = all_stages[i-1][3]\n",
    "    if (i == len(all_stages)-1):\n",
    "        w_next = 0\n",
    "    else:\n",
    "        w_next = all_stages[i+1][4]\n",
    "    # If on stage zero then add feed also\n",
    "    if (i == (ideal_strip_stage)):\n",
    "        tot_flow = p_last+w_next+Fc\n",
    "    else:\n",
    "        tot_flow =  p_last+w_next\n",
    "    print \"stage\", i - ideal_strip_stage,\"Predicted flow \", feed_flows[i],\" actual flow \", tot_flow\n"
   ]
  },
  {
   "cell_type": "code",
   "execution_count": 6,
   "metadata": {
    "collapsed": false
   },
   "outputs": [
    {
     "name": "stdout",
     "output_type": "stream",
     "text": [
      "Casc. F (kg/s)  Casc. P\t\tCasc. W\t\t (P+W)/F\n",
      "0.000281356603314 \t0.000105508726243 \t0.000175847877071 \t1.0\n"
     ]
    }
   ],
   "source": [
    "## Check that mass is conserved in the cascade\n",
    "\n",
    "final_w = all_stages[0][4]\n",
    "final_p = all_stages[len(all_stages)-1][3]\n",
    "#final_f = round(Fc,qty_len)\n",
    "final_f = Fc\n",
    "\n",
    "res = final_f - final_p - final_w\n",
    "print \"Casc. F (kg/s)  Casc. P\\t\\tCasc. W\\t\\t (P+W)/F\"\n",
    "print  final_f, \"\\t\", final_p, \"\\t\", final_w, \"\\t\", (final_p+final_w)/final_f"
   ]
  },
  {
   "cell_type": "code",
   "execution_count": 7,
   "metadata": {
    "collapsed": false
   },
   "outputs": [
    {
     "name": "stdout",
     "output_type": "stream",
     "text": [
      "Stage   #Mach\t Feed    Product  Waste\t F_assay \tP_assay W_assay\n",
      "0 \t200.0 \t2771.25    1385.62    1385.62    0.2 \t0.2653 \t0.1475\n",
      "1 \t160.0 \t2217.0    1108.5    1108.5    0.2653 \t0.3428 \t0.2\n",
      "2 \t120.0 \t1662.75    831.38    831.38    0.3428 \t0.4296 \t0.2653\n",
      "3 \t80.0 \t1108.5    554.25    554.25    0.4296 \t0.5211 \t0.3428\n",
      "4 \t40.0 \t554.25    277.13    277.13    0.5211 \t0.6111 \t0.4296\n",
      "-1 \t133.0 \t1847.5    923.75    923.75    0.1475 \t0.2 \t0.107\n",
      "-2 \t67.0 \t923.75    461.87    461.87    0.107 \t0.1475 \t0.0766\n"
     ]
    }
   ],
   "source": [
    "## Determine cascade production rate for off-design use\n",
    "\n",
    "Npc_mod = Npc_from_Nstages(alpha, Nfc_mod, ideal_enrich_stage)\n",
    "Nwc_mod = Nwc_from_Nstages(alpha, Nfc_mod, ideal_strip_stage)\n",
    "\n",
    "feed_flow_mod = calc_feed_flows(ideal_enrich_stage, ideal_strip_stage, Fc_mod, cut)\n",
    "\n",
    "mod_stages, n_m = design_cascade(cut, alpha, del_U, Nfc_mod, feed_flow_mod, ideal_enrich_stage,\n",
    "                                 ideal_strip_stage, verbose=True, pretty=True, qty_len=qty_len)\n"
   ]
  },
  {
   "cell_type": "code",
   "execution_count": 8,
   "metadata": {
    "collapsed": false
   },
   "outputs": [
    {
     "name": "stdout",
     "output_type": "stream",
     "text": [
      "step size is 0.833333333333\n",
      "curr try 1 Tot mach 667.0 # in last stage:  33.0\n",
      "curr try 2 Tot mach 556.0 # in last stage:  28.0\n",
      "curr try 3 Tot mach 463.0 # in last stage:  23.0\n",
      "curr try 4 Tot mach 385.0 # in last stage:  19.0\n",
      "curr try 5 Tot mach 321.0 # in last stage:  16.0\n",
      "curr try 6 Tot mach 268.0 # in last stage:  13.0\n",
      "curr try 7 Tot mach 223.0 # in last stage:  11.0\n",
      "curr try 8 Tot mach 185.0 # in last stage:  9.0\n",
      "curr try 9 Tot mach 155.0 # in last stage:  8.0\n",
      "curr try 10 Tot mach 129.0 # in last stage:  6.0\n",
      "curr try 11 Tot mach 108.0 # in last stage:  5.0\n",
      "curr try 12 Tot mach 88.0 # in last stage:  4.0\n",
      "reduced flow to correct # 88.0\n",
      "Stage   #Mach\t Feed    Product  Waste\t F_assay \tP_assay W_assay\n",
      "0 \t22.0 \t310.81    155.41    155.41    0.007 \t0.0101 \t0.0049\n",
      "1 \t18.0 \t248.65    124.33    124.33    0.0101 \t0.0145 \t0.007\n",
      "2 \t13.0 \t186.49    93.24    93.24    0.0145 \t0.0208 \t0.0101\n",
      "3 \t9.0 \t124.33    62.16    62.16    0.0208 \t0.0298 \t0.0145\n",
      "4 \t4.0 \t62.16    31.08    31.08    0.0298 \t0.0424 \t0.0208\n",
      "-1 \t15.0 \t207.21    103.6    103.6    0.0049 \t0.007 \t0.0034\n",
      "-2 \t7.0 \t103.6    51.8    51.8    0.0034 \t0.0049 \t0.0023\n",
      "Cascade can process  82.8837678858  kg/month\n",
      "Final total machines 88.0\n"
     ]
    }
   ],
   "source": [
    "## Design Cascade based on available number of centrifuges, determine max Fc\n",
    "max_centrifuges = 100\n",
    "curr_feed = Fc\n",
    "optimal_feed = Fc\n",
    "step_size = 1.2  # MUST be a number Greater than 1. \n",
    "step = 1\n",
    "ideal_enrich_stage, ideal_strip_stage = find_N_stages(alpha, Nfc, Npc, Nwc)\n",
    "feed_flows = calc_feed_flows(ideal_enrich_stage, ideal_strip_stage, curr_feed, cut)\n",
    "all_stages, n_centrifuges = design_cascade(cut, alpha, del_U, Nfc, feed_flows, ideal_enrich_stage, ideal_strip_stage)\n",
    "\n",
    "optimum_number = False\n",
    "neg_inc = False\n",
    "pos_inc = False\n",
    "\n",
    "if (n_centrifuges < max_centrifuges):\n",
    "    pos_inc = True\n",
    "    step = step_size\n",
    "elif (n_centrifuges > max_centrifuges):\n",
    "    neg_inc = True\n",
    "    step = 1.0/step_size\n",
    "else:\n",
    "    optimum_number = True\n",
    "ntries=0\n",
    "print \"step size is\", step\n",
    "while (optimum_number == False) and (ntries < 100):\n",
    "    ntries+=1\n",
    "    last_feed = curr_feed\n",
    "    curr_feed *= step\n",
    "    feed_flows = calc_feed_flows(ideal_enrich_stage, ideal_strip_stage, curr_feed, cut)\n",
    "    all_stages, n_centrifuges = design_cascade(cut, alpha, del_U, Nfc, feed_flows, ideal_enrich_stage, \n",
    "                                               ideal_strip_stage)\n",
    "    print \"curr try\", ntries, \"Tot mach\", n_centrifuges, \"# in last stage: \", all_stages[-1][1]\n",
    "    if (all_stages[-1][1] < 1):\n",
    "        print \"not enough centrifuges to fill all stages\"\n",
    "        optimum_number = True\n",
    "        optimal_feed = last_feed\n",
    "    elif (neg_inc == True) and (n_centrifuges < max_centrifuges):\n",
    "        optimum_number = True\n",
    "        optimal_feed = curr_feed\n",
    "        print \"reduced flow to correct #\", n_centrifuges\n",
    "    elif (pos_inc == True) and (n_centrifuges > max_centrifuges):\n",
    "        optimum_number = True\n",
    "        optimal_feed = last_feed\n",
    "        print \"increased flow to correct #\", n_centrifuges\n",
    "\n",
    "final_feed_flows = calc_feed_flows(ideal_enrich_stage, ideal_strip_stage, optimal_feed, cut)\n",
    "final_stages, final_n_mach = design_cascade(cut, alpha, del_U, Nfc, final_feed_flows, \n",
    "                                            ideal_enrich_stage, ideal_strip_stage, verbose=True, pretty=True)\n",
    "print \"Cascade can process \", optimal_feed*kg_sec2kg_month, \" kg/month\"\n",
    "print \"Final total machines\", final_n_mach"
   ]
  },
  {
   "cell_type": "code",
   "execution_count": 9,
   "metadata": {
    "collapsed": false
   },
   "outputs": [],
   "source": [
    "## A cascade with a fixed number of centrifuges has a maximum flow rate already defined\n",
    "## This flow rate and production does not change with change to feed assay. Therefore the\n",
    "## only things that change with a modified cascade are the product and waste assays"
   ]
  },
  {
   "cell_type": "code",
   "execution_count": null,
   "metadata": {
    "collapsed": true
   },
   "outputs": [],
   "source": []
  }
 ],
 "metadata": {
  "kernelspec": {
   "display_name": "Python 2",
   "language": "python",
   "name": "python2"
  },
  "language_info": {
   "codemirror_mode": {
    "name": "ipython",
    "version": 2
   },
   "file_extension": ".py",
   "mimetype": "text/x-python",
   "name": "python",
   "nbconvert_exporter": "python",
   "pygments_lexer": "ipython2",
   "version": "2.7.10"
  }
 },
 "nbformat": 4,
 "nbformat_minor": 0
}
