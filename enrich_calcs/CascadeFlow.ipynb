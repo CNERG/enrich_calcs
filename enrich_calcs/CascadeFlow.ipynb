{
 "cells": [
  {
   "cell_type": "code",
   "execution_count": 44,
   "metadata": {
    "collapsed": false
   },
   "outputs": [
    {
     "name": "stdout",
     "output_type": "stream",
     "text": [
      "Populating the interactive namespace from numpy and matplotlib\n"
     ]
    },
    {
     "name": "stderr",
     "output_type": "stream",
     "text": [
      "WARNING: pylab import has clobbered these variables: ['step']\n",
      "`%matplotlib` prevents importing * from pylab and numpy\n"
     ]
    }
   ],
   "source": [
    "# Render our plots inline\n",
    "%matplotlib inline\n",
    "%pylab inline  \n",
    "import numpy as np\n",
    "import pandas as pd\n",
    "import matplotlib as mpl\n",
    "import matplotlib.pyplot as plt\n",
    "import matplotlib.mlab as mlab\n",
    "\n",
    "# General Plotting Parameters\n",
    "mpl.rcParams['figure.figsize'] = (8,5)\n",
    "mpl.rcParams['lines.linewidth'] = 2.5\n",
    "mpl.rcParams['font.weight'] = 'bold'\n",
    "mpl.rcParams['axes.linewidth'] = 1.5\n",
    "mpl.rcParams['font.size'] = 14.\n",
    "mpl.rcParams['legend.fontsize'] = 12.\n",
    "mpl.rcParams['axes.labelsize'] = 12.\n",
    "mpl.rcParams['xtick.labelsize'] = 10.\n",
    "mpl.rcParams['ytick.labelsize'] = 10.\n",
    "mpl.rcParams['xtick.minor.pad'] = 4\n",
    "mpl.rcParams['xtick.direction'] = 'out'\n",
    "mpl.rcParams['ytick.direction'] = 'out'\n",
    "\n",
    "#Git says this is patched, but it doesn't work from Pip --upgrade 26-mar-2015\n",
    "#mpl.rcParams['xtick.minor.visible'] = True  \n",
    "\n",
    "# These are the \"Tableau 20\" colors as RGB.  \n",
    "tableau20 = [(31, 119, 180), (174, 199, 232), (255, 127, 14),\n",
    "             (255, 187, 120), (44, 160, 44), (152, 223, 138),\n",
    "              (148, 103, 189),\n",
    "             (197, 176, 213), (140, 86, 75), (196, 156, 148),  \n",
    "             (227, 119, 194), (247, 182, 210), (127, 127, 127),\n",
    "             (199, 199, 199), (188, 189, 34), (219, 219, 141),\n",
    "             (23, 190, 207), (158, 218, 229),(214, 39, 40), (255, 152, 150)]  \n",
    "    \n",
    "# Scale the RGB values to the [0, 1] range,\n",
    "# which is the format matplotlib accepts.  \n",
    "for i in range(len(tableau20)): \n",
    "    r, g, b = tableau20[i]  \n",
    "    tableau20[i] = (r / 255., g / 255., b / 255.)  "
   ]
  },
  {
   "cell_type": "code",
   "execution_count": 45,
   "metadata": {
    "collapsed": true
   },
   "outputs": [],
   "source": [
    "import calc_enrich\n",
    "reload(calc_enrich)\n",
    "from calc_enrich import calc_del_U\n",
    "from calc_enrich import N_product_by_alpha\n",
    "from calc_enrich import N_waste_by_alpha\n",
    "from calc_enrich import machines_per_enr_stage\n",
    "from calc_enrich import machines_per_strip_stage\n",
    "from calc_enrich import product_per_enr_stage\n",
    "from calc_enrich import Npc_from_Nstages\n",
    "from calc_enrich import Nwc_from_Nstages\n",
    "from calc_enrich import machines_per_cascade\n",
    "from calc_enrich import allowed_feed_per_stage\n",
    "from calc_enrich import calc_feed_flows\n",
    "from calc_enrich import find_N_stages\n",
    "from calc_enrich import design_cascade"
   ]
  },
  {
   "cell_type": "code",
   "execution_count": 46,
   "metadata": {
    "collapsed": false
   },
   "outputs": [],
   "source": [
    "# centrifuge params \n",
    "#omega = 64000\n",
    "#d = 0.1  # m \n",
    "#Z = 2.0   # m\n",
    "#F_m_hrs = 70 # grams/hr  \n",
    "#T = 320.0   # K\n",
    "#cut = 0.5\n",
    "eff = 1.0 # centrifuge efficiency\n",
    "\n",
    "d = 0.15  # m \n",
    "Z = 1.0   # m\n",
    "F_m_hrs = 15*60*60/(1e3) # grams/hr  \n",
    "T = 320.0# K\n",
    "cut = 0.5\n",
    "omega = 485/(d/2)\n",
    "\n",
    "# cascade params\n",
    "Nfc = 0.007\n",
    "Npc = 0.035\n",
    "Nwc = 0.003\n",
    "Fc_month = 739/15 #kg/month\n",
    "\n",
    "# The feed enrichment to be used when using a cascade designed for LEU to produce HEU.\n",
    "Nfc_mod = 0.035\n",
    "Fc_month_mod = Fc_month #kg/month\n",
    "#Fc_month_mod = 46 #kg/month\n",
    "\n",
    "#unit conversions\n",
    "kg_sec2kg_month = 30.4*24*60*60\n",
    "v_a = omega * (d/2.0)\n",
    "F_m = F_m_hrs/(60*60*1000.0)\n",
    "Fc = Fc_month/kg_sec2kg_month\n",
    "Fc_mod = Fc_month_mod/kg_sec2kg_month\n",
    "\n",
    "# Comparison numbers (not needed for calculations)\n",
    "del_U_th_yr = 1.1 #swu/yr\n",
    "del_U_obs_yr = 0.71 #Swu/yr\n",
    "del_U_th = del_U_th_yr/(365.25*24*60*60) #kgSWU/sec\n",
    "del_U_obs = del_U_obs_yr/(365.25*24*60*60)\n",
    "\n",
    "Pc_month = 77 #kg/month\n",
    "Pc = Pc_month/kg_sec2kg_month\n",
    "\n",
    "qty_len = 6\n",
    "assay_len = 4"
   ]
  },
  {
   "cell_type": "code",
   "execution_count": 47,
   "metadata": {
    "collapsed": false
   },
   "outputs": [
    {
     "name": "stdout",
     "output_type": "stream",
     "text": [
      "Stage   #Mach\t Feed    Product  Waste\t F_assay \tP_assay W_assay\n",
      "0 \t14.0 \t196.0    98.24    97.76    0.007 \t0.0094 \t0.0052\n",
      "1 \t12.0 \t163.33    81.93    81.4    0.0094 \t0.0126 \t0.007\n",
      "2 \t9.0 \t130.67    65.62    65.05    0.0126 \t0.017 \t0.0094\n",
      "3 \t7.0 \t98.0    49.29    48.71    0.017 \t0.0227 \t0.0126\n",
      "4 \t5.0 \t65.33    32.92    32.41    0.0227 \t0.0304 \t0.017\n",
      "5 \t2.0 \t32.67    16.51    16.16    0.0304 \t0.0405 \t0.0227\n",
      "-1 \t9.0 \t130.67    65.45    65.22    0.0052 \t0.007 \t0.0039\n",
      "-2 \t5.0 \t65.33    32.71    32.62    0.0039 \t0.0052 \t0.0029\n",
      "total machines 63.0\n"
     ]
    }
   ],
   "source": [
    "alpha, del_U, del_U_yr = calc_del_U(v_a, Z, d, F_m, T, cut, eff)\n",
    "\n",
    "# Find the number of stages needed for enriching and stripping \n",
    "# (don't use the stages_per_cascade fn because it only works when alpha is close to 1)\n",
    "\n",
    "ideal_enrich_stage, ideal_strip_stage = find_N_stages(alpha, Nfc, Npc, Nwc)\n",
    "feed_flows = calc_feed_flows(ideal_enrich_stage, ideal_strip_stage, Fc, cut)\n",
    "all_stages, n_machines = design_cascade(alpha, del_U, Nfc, Npc, Nwc, feed_flows, verbose=True, pretty=True, qty_len=8)\n",
    "print \"total machines\", n_machines"
   ]
  },
  {
   "cell_type": "code",
   "execution_count": 48,
   "metadata": {
    "collapsed": false
   },
   "outputs": [
    {
     "name": "stdout",
     "output_type": "stream",
     "text": [
      "stage -2 Predicted flow  2.48741065627e-05  actual flow  0.0\n",
      "stage -1 Predicted flow  4.97482131254e-05  actual flow  0.0\n",
      "stage 0 Predicted flow  7.46223196881e-05  actual flow  1.8655579922e-05\n",
      "stage 1 Predicted flow  6.21852664068e-05  actual flow  0.0\n",
      "stage 2 Predicted flow  4.97482131254e-05  actual flow  0.0\n",
      "stage 3 Predicted flow  3.73111598441e-05  actual flow  0.0\n",
      "stage 4 Predicted flow  2.48741065627e-05  actual flow  0.0\n",
      "stage 5 Predicted flow  1.24370532814e-05  actual flow  0.0\n"
     ]
    }
   ],
   "source": [
    "tot_flow = 0\n",
    "for i in range(len(all_stages)):\n",
    "    if (i == 0):\n",
    "        p_last = 0\n",
    "    else:\n",
    "        p_last = all_stages[i-1][3]\n",
    "    f_this = all_stages[i][2]\n",
    "    if (i == len(all_stages)-1):\n",
    "        w_next = 0\n",
    "    else:\n",
    "        w_next = all_stages[i+1][4]\n",
    "    # If on stage zero then add feed also\n",
    "    if (i == (ideal_strip_stage)):\n",
    "        tot_flow = p_last+w_next+Fc\n",
    "    else:\n",
    "        tot_flow =  p_last+w_next\n",
    "    print \"stage\", i - ideal_strip_stage,\"Predicted flow \", feed_flows[i],\" actual flow \", tot_flow\n"
   ]
  },
  {
   "cell_type": "code",
   "execution_count": 49,
   "metadata": {
    "collapsed": false
   },
   "outputs": [
    {
     "name": "stdout",
     "output_type": "stream",
     "text": [
      "Cascade F\t Cascade P\t Cascade W\t (P+W)/F\n",
      "1.9e-05 \t0.0 \t0.0 \t0.0\n"
     ]
    }
   ],
   "source": [
    "## Check that mass is conserved in the cascade\n",
    "\n",
    "final_w = all_stages[0][4]\n",
    "final_p = all_stages[len(all_stages)-1][3]\n",
    "final_f = round(Fc,qty_len)\n",
    "\n",
    "res = final_f - final_p - final_w\n",
    "print \"Cascade F\\t Cascade P\\t Cascade W\\t (P+W)/F\"\n",
    "print  final_f, \"\\t\", final_p, \"\\t\", final_w, \"\\t\", (final_p+final_w)/final_f"
   ]
  },
  {
   "cell_type": "code",
   "execution_count": 50,
   "metadata": {
    "collapsed": false
   },
   "outputs": [
    {
     "name": "stdout",
     "output_type": "stream",
     "text": [
      "step is 1.2\n",
      "current try is  0\n",
      "curr_feed 2.23866959064e-05\n",
      "Tot mach 76.0 # in last stage:  3.0\n",
      "current try is  1\n",
      "curr_feed 2.68640350877e-05\n",
      "Tot mach 92.0 # in last stage:  3.0\n",
      "current try is  2\n",
      "curr_feed 3.22368421053e-05\n",
      "Tot mach 108.0 # in last stage:  4.0\n",
      "increased flow to correct # 108.0\n",
      "Stage   #Mach\t Feed    Product  Waste\t F_assay \tP_assay W_assay\n",
      "0 \t20.0 \t282.24    141.46    140.78    0.007 \t0.0094 \t0.0052\n",
      "1 \t17.0 \t235.2    117.98    117.22    0.0094 \t0.0126 \t0.007\n",
      "2 \t14.0 \t188.16    94.49    93.67    0.0126 \t0.017 \t0.0094\n",
      "3 \t10.0 \t141.12    70.98    70.14    0.017 \t0.0227 \t0.0126\n",
      "4 \t7.0 \t94.08    47.41    46.67    0.0227 \t0.0304 \t0.017\n",
      "5 \t3.0 \t47.04    23.77    23.27    0.0304 \t0.0405 \t0.0227\n",
      "-1 \t14.0 \t188.16    94.25    93.91    0.0052 \t0.007 \t0.0039\n",
      "-2 \t7.0 \t94.08    47.1    46.98    0.0039 \t0.0052 \t0.0029\n",
      "Cascade can process  70.56  kg/month\n",
      "total machines 92.0\n"
     ]
    },
    {
     "data": {
      "text/plain": [
       "3.0"
      ]
     },
     "execution_count": 50,
     "metadata": {},
     "output_type": "execute_result"
    }
   ],
   "source": [
    "## Design Cascade based on available number of centrifuges, determine max Fc\n",
    "max_centrifuges = 100\n",
    "curr_feed = Fc\n",
    "optimal_feed = Fc\n",
    "step_size = 1.2  # MUST be a number Greater than 1. \n",
    "step = 1\n",
    "ideal_enrich_stage, ideal_strip_stage = find_N_stages(alpha, Nfc, Npc, Nwc)\n",
    "feed_flows = calc_feed_flows(ideal_enrich_stage, ideal_strip_stage, curr_feed, cut)\n",
    "all_stages, n_centrifuges = design_cascade(alpha, del_U, Nfc, Npc, Nwc, feed_flows)\n",
    "\n",
    "optimum_number = False\n",
    "neg_inc = False\n",
    "pos_inc = False\n",
    "\n",
    "if (n_centrifuges < max_centrifuges):\n",
    "    pos_inc = True\n",
    "    step = step_size\n",
    "elif (n_centrifuges > max_centrifuges):\n",
    "    neg_inc = True\n",
    "    step = 1.0/step_size\n",
    "else:\n",
    "    optimum_number = True\n",
    "ntries=0\n",
    "print \"step is\", step\n",
    "while (optimum_number == False) and (ntries < 100):\n",
    "    print \"current try is \", ntries\n",
    "    ntries+=1\n",
    "    last_feed = curr_feed\n",
    "    curr_feed *= step\n",
    "    print \"curr_feed\", curr_feed\n",
    "    feed_flows = calc_feed_flows(ideal_enrich_stage, ideal_strip_stage, curr_feed, cut)\n",
    "    all_stages, n_centrifuges = design_cascade(alpha, del_U, Nfc, Npc, Nwc, feed_flows)\n",
    "    print \"Tot mach\", n_centrifuges, \"# in last stage: \", all_stages[-1][1]\n",
    "    if (all_stages[-1][1] < 1):\n",
    "        print \"not enough centrifuges to fill all stages\"\n",
    "        optimum_number = True\n",
    "        optimal_feed = last_feed\n",
    "    elif (neg_inc == True) and (n_centrifuges < max_centrifuges):\n",
    "        optimum_number = True\n",
    "        optimal_feed = curr_feed\n",
    "        print \"reduced flow to correct #\", n_centrifuges\n",
    "    elif (pos_inc == True) and (n_centrifuges > max_centrifuges):\n",
    "        optimum_number = True\n",
    "        optimal_feed = last_feed\n",
    "        print \"increased flow to correct #\", n_centrifuges\n",
    "\n",
    "final_feed_flows = calc_feed_flows(ideal_enrich_stage, ideal_strip_stage, optimal_feed, cut)\n",
    "final_stages, final_n_mach = design_cascade(alpha, del_U, Nfc, Npc, Nwc, final_feed_flows, verbose=True, pretty=True)\n",
    "print \"Cascade can process \", optimal_feed*kg_sec2kg_month, \" kg/month\"\n",
    "print \"total machines\", final_n_mach\n",
    "final_stages[-1][1]"
   ]
  },
  {
   "cell_type": "code",
   "execution_count": null,
   "metadata": {
    "collapsed": true
   },
   "outputs": [],
   "source": []
  }
 ],
 "metadata": {
  "kernelspec": {
   "display_name": "Python 2",
   "language": "python",
   "name": "python2"
  },
  "language_info": {
   "codemirror_mode": {
    "name": "ipython",
    "version": 2
   },
   "file_extension": ".py",
   "mimetype": "text/x-python",
   "name": "python",
   "nbconvert_exporter": "python",
   "pygments_lexer": "ipython2",
   "version": "2.7.10"
  }
 },
 "nbformat": 4,
 "nbformat_minor": 0
}
