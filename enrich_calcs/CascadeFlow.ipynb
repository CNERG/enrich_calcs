{
 "cells": [
  {
   "cell_type": "code",
   "execution_count": 35,
   "metadata": {
    "collapsed": false
   },
   "outputs": [
    {
     "name": "stdout",
     "output_type": "stream",
     "text": [
      "Populating the interactive namespace from numpy and matplotlib\n"
     ]
    }
   ],
   "source": [
    "# Render our plots inline\n",
    "%matplotlib inline\n",
    "%pylab inline  \n",
    "import numpy as np\n",
    "import pandas as pd\n",
    "import matplotlib as mpl\n",
    "import matplotlib.pyplot as plt\n",
    "import matplotlib.mlab as mlab\n",
    "\n",
    "# General Plotting Parameters\n",
    "mpl.rcParams['figure.figsize'] = (8,5)\n",
    "mpl.rcParams['lines.linewidth'] = 2.5\n",
    "mpl.rcParams['font.weight'] = 'bold'\n",
    "mpl.rcParams['axes.linewidth'] = 1.5\n",
    "mpl.rcParams['font.size'] = 14.\n",
    "mpl.rcParams['legend.fontsize'] = 12.\n",
    "mpl.rcParams['axes.labelsize'] = 12.\n",
    "mpl.rcParams['xtick.labelsize'] = 10.\n",
    "mpl.rcParams['ytick.labelsize'] = 10.\n",
    "mpl.rcParams['xtick.minor.pad'] = 4\n",
    "mpl.rcParams['xtick.direction'] = 'out'\n",
    "mpl.rcParams['ytick.direction'] = 'out'\n",
    "\n",
    "#Git says this is patched, but it doesn't work from Pip --upgrade 26-mar-2015\n",
    "#mpl.rcParams['xtick.minor.visible'] = True  \n",
    "\n",
    "# These are the \"Tableau 20\" colors as RGB.  \n",
    "tableau20 = [(31, 119, 180), (174, 199, 232), (255, 127, 14),\n",
    "             (255, 187, 120), (44, 160, 44), (152, 223, 138),\n",
    "              (148, 103, 189),\n",
    "             (197, 176, 213), (140, 86, 75), (196, 156, 148),  \n",
    "             (227, 119, 194), (247, 182, 210), (127, 127, 127),\n",
    "             (199, 199, 199), (188, 189, 34), (219, 219, 141),\n",
    "             (23, 190, 207), (158, 218, 229),(214, 39, 40), (255, 152, 150)]  \n",
    "    \n",
    "# Scale the RGB values to the [0, 1] range,\n",
    "# which is the format matplotlib accepts.  \n",
    "for i in range(len(tableau20)): \n",
    "    r, g, b = tableau20[i]  \n",
    "    tableau20[i] = (r / 255., g / 255., b / 255.)  "
   ]
  },
  {
   "cell_type": "code",
   "execution_count": 36,
   "metadata": {
    "collapsed": true
   },
   "outputs": [],
   "source": [
    "import calc_enrich\n",
    "reload(calc_enrich)\n",
    "from calc_enrich import calc_del_U\n",
    "from calc_enrich import N_product_by_alpha\n",
    "from calc_enrich import N_waste_by_alpha\n",
    "from calc_enrich import machines_per_enr_stage\n",
    "from calc_enrich import machines_per_strip_stage\n",
    "from calc_enrich import product_per_enr_stage\n",
    "from calc_enrich import Npc_from_Nstages\n",
    "from calc_enrich import Nwc_from_Nstages\n",
    "from calc_enrich import machines_per_cascade\n",
    "from calc_enrich import allowed_feed_per_stage\n",
    "from calc_enrich import calc_feed_flows"
   ]
  },
  {
   "cell_type": "code",
   "execution_count": 37,
   "metadata": {
    "collapsed": false
   },
   "outputs": [],
   "source": [
    "# centrifuge params \n",
    "#omega = 64000\n",
    "#d = 0.1  # m \n",
    "#Z = 2.0   # m\n",
    "#F_m_hrs = 70 # grams/hr  \n",
    "#T = 320.0   # K\n",
    "#cut = 0.5\n",
    "eff = 1.0 # centrifuge efficiency\n",
    "\n",
    "d = 0.15  # m \n",
    "Z = 1.0   # m\n",
    "F_m_hrs = 15*60*60/(1e3) # grams/hr  \n",
    "T = 320.0# K\n",
    "cut = 0.5\n",
    "omega = 485/(d/2)\n",
    "\n",
    "# cascade params\n",
    "Nfc = 0.007\n",
    "Npc = 0.035\n",
    "Nwc = 0.003\n",
    "Fc_month = 739*10000 #kg/month\n",
    "\n",
    "# The feed enrichment to be used when using a cascade designed for LEU to produce HEU.\n",
    "Nfc_mod = 0.035\n",
    "Fc_month_mod = Fc_month #kg/month\n",
    "#Fc_month_mod = 46 #kg/month\n",
    "\n",
    "#unit conversions\n",
    "kg_sec2kg_month = 30.4*24*60*60\n",
    "v_a = omega * (d/2.0)\n",
    "F_m = F_m_hrs/(60*60*1000.0)\n",
    "Fc = Fc_month/kg_sec2kg_month\n",
    "Fc_mod = Fc_month_mod/kg_sec2kg_month\n",
    "\n",
    "# Comparison numbers (not needed for calculations)\n",
    "del_U_th_yr = 1.1 #swu/yr\n",
    "del_U_obs_yr = 0.71 #Swu/yr\n",
    "del_U_th = del_U_th_yr/(365.25*24*60*60) #kgSWU/sec\n",
    "del_U_obs = del_U_obs_yr/(365.25*24*60*60)\n",
    "\n",
    "Pc_month = 77 #kg/month\n",
    "Pc = Pc_month/kg_sec2kg_month\n",
    "\n",
    "qty_len = 6\n",
    "assay_len = 4"
   ]
  },
  {
   "cell_type": "code",
   "execution_count": 38,
   "metadata": {
    "collapsed": false
   },
   "outputs": [
    {
     "name": "stdout",
     "output_type": "stream",
     "text": [
      "del_U is 3.1939942861e-07  alpha is  1.34782845204\n"
     ]
    }
   ],
   "source": [
    "alpha, del_U, del_U_yr = calc_del_U(v_a, Z, d, F_m, T, cut, eff)\n",
    "\n",
    "# Find the number of stages needed for enriching and stripping \n",
    "# (don't use the stages_per_cascade fn because it only works when alpha is close to 1)\n",
    "ideal_enrich_stage = 0\n",
    "ideal_strip_stage = 0\n",
    "Nfs = Nfc\n",
    "Nps = Nfc\n",
    "while (Nps < Npc):\n",
    "    Nps = N_product_by_alpha(alpha, Nfs)\n",
    "    if (ideal_enrich_stage == 0):\n",
    "        Nws = N_waste_by_alpha(alpha, Nfs)\n",
    "    ideal_enrich_stage +=1\n",
    "    Nfs = Nps\n",
    "\n",
    "Nfs = Nws\n",
    "while (Nws > Nwc):\n",
    "    Nws = N_waste_by_alpha(alpha, Nfs)\n",
    "    ideal_strip_stage += 1\n",
    "    Nfs = Nws\n",
    "\n",
    "print \"del_U is\", del_U, \" alpha is \", alpha\n",
    "\n",
    "feed_flows = calc_feed_flows(ideal_enrich_stage, ideal_strip_stage, Fc, cut)\n"
   ]
  },
  {
   "cell_type": "code",
   "execution_count": 39,
   "metadata": {
    "collapsed": false
   },
   "outputs": [
    {
     "name": "stdout",
     "output_type": "stream",
     "text": [
      "Stage   #Mach\t\t Feed\t    Product\t Waste\t   F_assay \tP_assay W_assay\n",
      "setting stage zero variables\n",
      "0 \t2131489.0 \t11.254264    5.640833    5.613431    0.007 \t0.0094 \t0.0052\n",
      "1 \t1776241.0 \t9.378553    4.704628    4.673925    0.0094 \t0.0126 \t0.007\n",
      "2 \t1420993.0 \t7.502843    3.76792    3.734923    0.0126 \t0.017 \t0.0094\n",
      "3 \t1065745.0 \t5.627132    2.830171    2.796961    0.017 \t0.0227 \t0.0126\n",
      "4 \t710496.0 \t3.751421    1.890544    1.860878    0.0227 \t0.0304 \t0.017\n",
      "5 \t355248.0 \t1.875711    0.947773    0.927938    0.0304 \t0.0405 \t0.0227\n"
     ]
    }
   ],
   "source": [
    "\n",
    "Nfs = Nfc\n",
    "print \"Stage   #Mach\\t\\t Feed\\t    Product\\t Waste\\t   F_assay \\tP_assay W_assay\"\n",
    "all_stages = []\n",
    "for stage_idx in range(ideal_enrich_stage):\n",
    "    curr_stage = stage_idx + ideal_strip_stage\n",
    "    Fs = feed_flows[curr_stage]\n",
    "    n_mach_enr = round(machines_per_enr_stage(alpha, del_U, Fs))\n",
    "    if (n_mach_enr <= 1):\n",
    "        int_mach = False\n",
    "    Nps = N_product_by_alpha(alpha, Nfs)\n",
    "    Ps = product_per_enr_stage(alpha, Nfs, Nps, Fs)\n",
    "    Ws = Fs - Ps\n",
    "    Nws = N_waste_by_alpha(alpha, Nfs)\n",
    "    all_stages.append([stage_idx, n_mach_enr, round(Fs, qty_len), \n",
    "                          round(Ps, qty_len), round(Ws, qty_len), round(Nfs, assay_len), \n",
    "                          round(Nps, assay_len), round(Nws, assay_len)])\n",
    "    if (stage_idx == 0):\n",
    "        print \"setting stage zero variables\"\n",
    "        W_enr1 = Ws\n",
    "        Nw_1 = Nws\n",
    "    print stage_idx, \"\\t\", n_mach_enr,\"\\t\", round(Fs,qty_len), \"  \",round(Ps, qty_len), \"  \",round(Ws, qty_len),\"  \", round(Nfs, assay_len), \"\\t\",round(Nps, assay_len),\"\\t\", round(Nws, assay_len)\n",
    "    Nfs = Nps\n"
   ]
  },
  {
   "cell_type": "code",
   "execution_count": 40,
   "metadata": {
    "collapsed": false
   },
   "outputs": [
    {
     "name": "stdout",
     "output_type": "stream",
     "text": [
      "Stage   #Mach\t\t Feed\t    Product\t Waste\t   F_assay \tP_assay W_assay\n",
      "-1 \t1420993.0 \t7.502843    3.75821    3.744632    0.0052 \t0.007 \t0.0039\n",
      "-2 \t710496.0 \t3.751421    1.878233    1.873189    0.0039 \t0.0052 \t0.0029\n"
     ]
    }
   ],
   "source": [
    "\n",
    "Nfs = Nw_1\n",
    "print \"Stage   #Mach\\t\\t Feed\\t    Product\\t Waste\\t   F_assay \\tP_assay W_assay\"\n",
    "for stage_idx in range(ideal_strip_stage-1,-1,-1):\n",
    "    curr_stage = stage_idx - ideal_strip_stage\n",
    "    Fs = feed_flows[stage_idx]\n",
    "    n_mach_strip = round(machines_per_strip_stage(alpha, del_U, Fs))\n",
    "    if (n_mach_enr <= 1):\n",
    "        int_mach = False\n",
    "    Nps = N_product_by_alpha(alpha, Nfs)\n",
    "    Nws = N_waste_by_alpha(alpha, Nfs)\n",
    "    Ps = product_per_enr_stage(alpha, Nfs, Nps, Fs)\n",
    "    Ws = Fs - Ps\n",
    "    all_stages.insert(0,[(curr_stage), n_mach_strip, round(Fs, qty_len), \n",
    "                            round(Ps, qty_len), round(Ws, qty_len), round(Nfs, assay_len), \n",
    "                            round(Nps, assay_len), round(Nws, assay_len)])\n",
    "    print (curr_stage), \"\\t\",n_mach_strip ,\"\\t\", round(Fs,qty_len), \"  \",round(Ps, qty_len), \"  \",round(Ws, qty_len),\"  \", round(Nfs, assay_len), \"\\t\",round(Nps, assay_len),\"\\t\", round(Nws, assay_len)\n",
    "    Nfs = Nws\n"
   ]
  },
  {
   "cell_type": "code",
   "execution_count": 41,
   "metadata": {
    "collapsed": false
   },
   "outputs": [
    {
     "name": "stdout",
     "output_type": "stream",
     "text": [
      "stage -2 Predicted flow  3.75142137752  actual flow  3.744632\n",
      "stage -1 Predicted flow  7.50284275504  actual flow  7.491664\n",
      "stage 0 Predicted flow  11.2542641326  actual flow  11.2457010331\n",
      "stage 1 Predicted flow  9.37855344379  actual flow  9.375756\n",
      "stage 2 Predicted flow  7.50284275504  actual flow  7.501589\n",
      "stage 3 Predicted flow  5.62713206628  actual flow  5.628798\n",
      "stage 4 Predicted flow  3.75142137752  actual flow  3.758109\n",
      "stage 5 Predicted flow  1.87571068876  actual flow  1.890544\n"
     ]
    }
   ],
   "source": [
    "for i in range(len(all_stages)):\n",
    "    if (i == 0):\n",
    "        p_last = 0\n",
    "    else:\n",
    "        p_last = all_stages[i-1][3]\n",
    "    f_this = all_stages[i][2]\n",
    "    if (i == len(all_stages)-1):\n",
    "        w_next = 0\n",
    "    else:\n",
    "        w_next = all_stages[i+1][4]\n",
    "    # If on stage zero then add feed also\n",
    "    if (i == (ideal_strip_stage)):\n",
    "        tot_flow = p_last+w_next+Fc\n",
    "    else:\n",
    "        tot_flow =  p_last+w_next\n",
    "    print \"stage\", i - ideal_strip_stage,\"Predicted flow \", feed_flows[i],\" actual flow \", tot_flow\n"
   ]
  },
  {
   "cell_type": "code",
   "execution_count": 42,
   "metadata": {
    "collapsed": false
   },
   "outputs": [
    {
     "name": "stdout",
     "output_type": "stream",
     "text": [
      "Cascade F\tCascade P \tCascade W \t F-P-W\n",
      "2.813566 \t0.947773 \t1.873189 \t-0.007396\n"
     ]
    }
   ],
   "source": [
    "final_w = all_stages[0][4]\n",
    "final_p = all_stages[len(all_stages)-1][3]\n",
    "final_f = round(Fc,qty_len)\n",
    "\n",
    "res = final_f - final_p - final_w\n",
    "print \"Cascade F\\tCascade P \\tCascade W \\t F-P-W\"\n",
    "print  final_f, \"\\t\", final_p, \"\\t\", final_w, \"\\t\", res"
   ]
  },
  {
   "cell_type": "code",
   "execution_count": null,
   "metadata": {
    "collapsed": true
   },
   "outputs": [],
   "source": []
  }
 ],
 "metadata": {
  "kernelspec": {
   "display_name": "Python 2",
   "language": "python",
   "name": "python2"
  },
  "language_info": {
   "codemirror_mode": {
    "name": "ipython",
    "version": 2
   },
   "file_extension": ".py",
   "mimetype": "text/x-python",
   "name": "python",
   "nbconvert_exporter": "python",
   "pygments_lexer": "ipython2",
   "version": "2.7.10"
  }
 },
 "nbformat": 4,
 "nbformat_minor": 0
}
