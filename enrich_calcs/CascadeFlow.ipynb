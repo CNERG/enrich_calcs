{
 "cells": [
  {
   "cell_type": "code",
   "execution_count": 90,
   "metadata": {
    "collapsed": false
   },
   "outputs": [
    {
     "name": "stdout",
     "output_type": "stream",
     "text": [
      "Populating the interactive namespace from numpy and matplotlib\n"
     ]
    },
    {
     "name": "stderr",
     "output_type": "stream",
     "text": [
      "WARNING: pylab import has clobbered these variables: ['step']\n",
      "`%matplotlib` prevents importing * from pylab and numpy\n"
     ]
    }
   ],
   "source": [
    "# Render our plots inline\n",
    "%matplotlib inline\n",
    "%pylab inline  \n",
    "import numpy as np\n",
    "import pandas as pd\n",
    "import matplotlib as mpl\n",
    "import matplotlib.pyplot as plt\n",
    "import matplotlib.mlab as mlab\n",
    "\n",
    "# General Plotting Parameters\n",
    "mpl.rcParams['figure.figsize'] = (8,5)\n",
    "mpl.rcParams['lines.linewidth'] = 2.5\n",
    "mpl.rcParams['font.weight'] = 'bold'\n",
    "mpl.rcParams['axes.linewidth'] = 1.5\n",
    "mpl.rcParams['font.size'] = 14.\n",
    "mpl.rcParams['legend.fontsize'] = 12.\n",
    "mpl.rcParams['axes.labelsize'] = 12.\n",
    "mpl.rcParams['xtick.labelsize'] = 10.\n",
    "mpl.rcParams['ytick.labelsize'] = 10.\n",
    "mpl.rcParams['xtick.minor.pad'] = 4\n",
    "mpl.rcParams['xtick.direction'] = 'out'\n",
    "mpl.rcParams['ytick.direction'] = 'out'\n",
    "\n",
    "#Git says this is patched, but it doesn't work from Pip --upgrade 26-mar-2015\n",
    "#mpl.rcParams['xtick.minor.visible'] = True  \n",
    "\n",
    "# These are the \"Tableau 20\" colors as RGB.  \n",
    "tableau20 = [(31, 119, 180), (174, 199, 232), (255, 127, 14),\n",
    "             (255, 187, 120), (44, 160, 44), (152, 223, 138),\n",
    "              (148, 103, 189),\n",
    "             (197, 176, 213), (140, 86, 75), (196, 156, 148),  \n",
    "             (227, 119, 194), (247, 182, 210), (127, 127, 127),\n",
    "             (199, 199, 199), (188, 189, 34), (219, 219, 141),\n",
    "             (23, 190, 207), (158, 218, 229),(214, 39, 40), (255, 152, 150)]  \n",
    "    \n",
    "# Scale the RGB values to the [0, 1] range,\n",
    "# which is the format matplotlib accepts.  \n",
    "for i in range(len(tableau20)): \n",
    "    r, g, b = tableau20[i]  \n",
    "    tableau20[i] = (r / 255., g / 255., b / 255.)  "
   ]
  },
  {
   "cell_type": "code",
   "execution_count": 91,
   "metadata": {
    "collapsed": true
   },
   "outputs": [],
   "source": [
    "import calc_enrich\n",
    "reload(calc_enrich)\n",
    "from calc_enrich import calc_del_U\n",
    "from calc_enrich import N_product_by_alpha\n",
    "from calc_enrich import N_waste_by_alpha\n",
    "from calc_enrich import machines_per_enr_stage\n",
    "from calc_enrich import machines_per_strip_stage\n",
    "from calc_enrich import product_per_enr_stage\n",
    "from calc_enrich import Npc_from_Nstages\n",
    "from calc_enrich import Nwc_from_Nstages\n",
    "from calc_enrich import machines_per_cascade\n",
    "from calc_enrich import allowed_feed_per_stage\n",
    "from calc_enrich import calc_feed_flows\n",
    "from calc_enrich import find_N_stages\n",
    "from calc_enrich import design_cascade"
   ]
  },
  {
   "cell_type": "code",
   "execution_count": 92,
   "metadata": {
    "collapsed": false
   },
   "outputs": [],
   "source": [
    "# centrifuge params \n",
    "#omega = 64000\n",
    "#d = 0.1  # m \n",
    "#Z = 2.0   # m\n",
    "#F_m_hrs = 70 # grams/hr  \n",
    "#T = 320.0   # K\n",
    "#cut = 0.5\n",
    "eff = 1.0 # centrifuge efficiency\n",
    "\n",
    "d = 0.15  # m \n",
    "Z = 1.0   # m\n",
    "F_m_hrs = 15*60*60/(1e3) # grams/hr  \n",
    "T = 320.0# K\n",
    "cut = 0.5\n",
    "omega = 485/(d/2)\n",
    "\n",
    "# cascade params\n",
    "Nfc = 0.007\n",
    "Npc = 0.035\n",
    "Nwc = 0.003\n",
    "Fc_month = 739/10 #kg/month\n",
    "\n",
    "# The feed enrichment to be used when using a cascade designed for LEU to produce HEU.\n",
    "Nfc_mod = 0.035\n",
    "Fc_month_mod = Fc_month #kg/month\n",
    "#Fc_month_mod = 46 #kg/month\n",
    "\n",
    "#unit conversions\n",
    "kg_sec2kg_month = 30.4*24*60*60\n",
    "v_a = omega * (d/2.0)\n",
    "F_m = F_m_hrs/(60*60*1000.0)\n",
    "Fc = Fc_month/kg_sec2kg_month\n",
    "Fc_mod = Fc_month_mod/kg_sec2kg_month\n",
    "\n",
    "# Comparison numbers (not needed for calculations)\n",
    "del_U_th_yr = 1.1 #swu/yr\n",
    "del_U_obs_yr = 0.71 #Swu/yr\n",
    "del_U_th = del_U_th_yr/(365.25*24*60*60) #kgSWU/sec\n",
    "del_U_obs = del_U_obs_yr/(365.25*24*60*60)\n",
    "\n",
    "Pc_month = 77 #kg/month\n",
    "Pc = Pc_month/kg_sec2kg_month\n",
    "\n",
    "qty_len = 6\n",
    "assay_len = 4"
   ]
  },
  {
   "cell_type": "code",
   "execution_count": 98,
   "metadata": {
    "collapsed": false
   },
   "outputs": [
    {
     "name": "stdout",
     "output_type": "stream",
     "text": [
      "Stage   #Mach\t Feed    Product  Waste\t F_assay \tP_assay W_assay\n",
      "0 \t21.0 \t0.00011117    5.572e-05    5.545e-05    0.007 \t0.0094 \t0.0052\n",
      "1 \t18.0 \t9.264e-05    4.647e-05    4.617e-05    0.0094 \t0.0126 \t0.007\n",
      "2 \t14.0 \t7.411e-05    3.722e-05    3.689e-05    0.0126 \t0.017 \t0.0094\n",
      "3 \t11.0 \t5.559e-05    2.796e-05    2.763e-05    0.017 \t0.0227 \t0.0126\n",
      "4 \t7.0 \t3.706e-05    1.868e-05    1.838e-05    0.0227 \t0.0304 \t0.017\n",
      "5 \t4.0 \t1.853e-05    9.36e-06    9.17e-06    0.0304 \t0.0405 \t0.0227\n",
      "-1 \t14.0 \t7.411e-05    3.712e-05    3.699e-05    0.0052 \t0.007 \t0.0039\n",
      "-2 \t7.0 \t3.706e-05    1.855e-05    1.85e-05    0.0039 \t0.0052 \t0.0029\n"
     ]
    }
   ],
   "source": [
    "alpha, del_U, del_U_yr = calc_del_U(v_a, Z, d, F_m, T, cut, eff)\n",
    "\n",
    "# Find the number of stages needed for enriching and stripping \n",
    "# (don't use the stages_per_cascade fn because it only works when alpha is close to 1)\n",
    "\n",
    "ideal_enrich_stage, ideal_strip_stage = find_N_stages(alpha, Nfc, Npc, Nwc)\n",
    "feed_flows = calc_feed_flows(ideal_enrich_stage, ideal_strip_stage, Fc, cut)\n",
    "all_stages, n_machines = design_cascade(alpha, del_U, Nfc, Npc, Nwc, feed_flows, verbose=True, qty_len=8)\n"
   ]
  },
  {
   "cell_type": "code",
   "execution_count": 99,
   "metadata": {
    "collapsed": false
   },
   "outputs": [
    {
     "name": "stdout",
     "output_type": "stream",
     "text": [
      "stage -2 Predicted flow  3.70573424301e-05  actual flow  3.699e-05\n",
      "stage -1 Predicted flow  7.41146848603e-05  actual flow  7.4e-05\n",
      "stage 0 Predicted flow  0.00011117202729  actual flow  0.000111083006823\n",
      "stage 1 Predicted flow  9.26433560754e-05  actual flow  9.261e-05\n",
      "stage 2 Predicted flow  7.41146848603e-05  actual flow  7.41e-05\n",
      "stage 3 Predicted flow  5.55860136452e-05  actual flow  5.56e-05\n",
      "stage 4 Predicted flow  3.70573424301e-05  actual flow  3.713e-05\n",
      "stage 5 Predicted flow  1.85286712151e-05  actual flow  1.868e-05\n"
     ]
    }
   ],
   "source": [
    "for i in range(len(all_stages)):\n",
    "    if (i == 0):\n",
    "        p_last = 0\n",
    "    else:\n",
    "        p_last = all_stages[i-1][3]\n",
    "    f_this = all_stages[i][2]\n",
    "    if (i == len(all_stages)-1):\n",
    "        w_next = 0\n",
    "    else:\n",
    "        w_next = all_stages[i+1][4]\n",
    "    # If on stage zero then add feed also\n",
    "    if (i == (ideal_strip_stage)):\n",
    "        tot_flow = p_last+w_next+Fc\n",
    "    else:\n",
    "        tot_flow =  p_last+w_next\n",
    "    print \"stage\", i - ideal_strip_stage,\"Predicted flow \", feed_flows[i],\" actual flow \", tot_flow\n"
   ]
  },
  {
   "cell_type": "code",
   "execution_count": 95,
   "metadata": {
    "collapsed": false
   },
   "outputs": [
    {
     "name": "stdout",
     "output_type": "stream",
     "text": [
      "Cascade F\t Cascade P\t Cascade W\t (P+W)/F\n",
      "2.8e-05 \t0.0 \t0.0 \t0.0\n"
     ]
    }
   ],
   "source": [
    "## Check that mass is conserved in the cascade\n",
    "\n",
    "final_w = all_stages[0][4]\n",
    "final_p = all_stages[len(all_stages)-1][3]\n",
    "final_f = round(Fc,qty_len)\n",
    "\n",
    "res = final_f - final_p - final_w\n",
    "print \"Cascade F\\t Cascade P\\t Cascade W\\t (P+W)/F\"\n",
    "print  final_f, \"\\t\", final_p, \"\\t\", final_w, \"\\t\", (final_p+final_w)/final_f"
   ]
  },
  {
   "cell_type": "code",
   "execution_count": 96,
   "metadata": {
    "collapsed": false
   },
   "outputs": [
    {
     "name": "stdout",
     "output_type": "stream",
     "text": [
      "35.0\n",
      "Stage   #Mach\t Feed    Product  Waste\t F_assay \tP_assay W_assay\n",
      "0 \t21.0 \t292.0    146.36    145.64    0.007 \t0.0094 \t0.0052\n",
      "1 \t18.0 \t243.33    122.06    121.27    0.0094 \t0.0126 \t0.007\n",
      "2 \t14.0 \t194.67    97.76    96.91    0.0126 \t0.017 \t0.0094\n",
      "3 \t11.0 \t146.0    73.43    72.57    0.017 \t0.0227 \t0.0126\n",
      "4 \t7.0 \t97.33    49.05    48.28    0.0227 \t0.0304 \t0.017\n",
      "5 \t4.0 \t48.67    24.59    24.08    0.0304 \t0.0405 \t0.0227\n",
      "-1 \t14.0 \t194.67    97.51    97.16    0.0052 \t0.007 \t0.0039\n",
      "-2 \t7.0 \t97.33    48.73    48.6    0.0039 \t0.0052 \t0.0029\n",
      "Cascade can process  73.0  kg/month\n"
     ]
    }
   ],
   "source": [
    "## Design Cascade based on available number of centrifuges, determine max Fc\n",
    "max_centrifuges = 100\n",
    "curr_feed = Fc\n",
    "optimal_feed = Fc\n",
    "step_size = 10\n",
    "\n",
    "ideal_enrich_stage, ideal_strip_stage = find_N_stages(alpha, Nfc, Npc, Nwc)\n",
    "feed_flows = calc_feed_flows(ideal_enrich_stage, ideal_strip_stage, curr_feed, cut)\n",
    "all_stages, n_centrifuges = design_cascade(alpha, del_U, Nfc, Npc, Nwc, feed_flows)\n",
    "\n",
    "optimum_number = False\n",
    "neg_inc = False\n",
    "pos_inc = False\n",
    "\n",
    "if (n_centrifuges < max_centrifuges):\n",
    "    pos_inc = True\n",
    "    step = step_size\n",
    "elif (n_centrifuges > max_centrifuges):\n",
    "    neg_inc = True\n",
    "    step = 1/step_size\n",
    "else:\n",
    "    optimum_number = True\n",
    "\n",
    "while (optimum_number == False):\n",
    "    optimal_feed = curr_feed\n",
    "    curr_feed *= step\n",
    "    feed_flows = calc_feed_flows(ideal_enrich_stage, ideal_strip_stage, curr_feed, cut)\n",
    "    all_stages, n_centrifuges = design_cascade(alpha, del_U, Nfc, Npc, Nwc, feed_flows)\n",
    "    print all_stages[-1][1]\n",
    "    if (all_stages[-1][1] < 1):\n",
    "        optimum_number = True\n",
    "    elif (neg_inc == True) and (n_centrifuges < max_centrifuges):\n",
    "        optimum_number = True\n",
    "    elif (pos_inc == True) and (n_centrifuges > max_centrifuges):\n",
    "        optimum_number = True\n",
    "\n",
    "final_feed_flows = calc_feed_flows(ideal_enrich_stage, ideal_strip_stage, optimal_feed, cut)\n",
    "final_stages, final_n_mach = design_cascade(alpha, del_U, Nfc, Npc, Nwc, final_feed_flows, verbose=True, pretty=True)\n",
    "print \"Cascade can process \", optimal_feed*kg_sec2kg_month, \" kg/month\"\n"
   ]
  },
  {
   "cell_type": "code",
   "execution_count": null,
   "metadata": {
    "collapsed": true
   },
   "outputs": [],
   "source": []
  }
 ],
 "metadata": {
  "kernelspec": {
   "display_name": "Python 2",
   "language": "python",
   "name": "python2"
  },
  "language_info": {
   "codemirror_mode": {
    "name": "ipython",
    "version": 2
   },
   "file_extension": ".py",
   "mimetype": "text/x-python",
   "name": "python",
   "nbconvert_exporter": "python",
   "pygments_lexer": "ipython2",
   "version": "2.7.10"
  }
 },
 "nbformat": 4,
 "nbformat_minor": 0
}
