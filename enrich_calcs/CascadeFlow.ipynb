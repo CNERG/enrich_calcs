{
 "cells": [
  {
   "cell_type": "code",
   "execution_count": 1,
   "metadata": {
    "collapsed": false
   },
   "outputs": [
    {
     "name": "stdout",
     "output_type": "stream",
     "text": [
      "Populating the interactive namespace from numpy and matplotlib\n"
     ]
    }
   ],
   "source": [
    "# Render our plots inline\n",
    "%matplotlib inline\n",
    "%pylab inline  \n",
    "import numpy as np\n",
    "import pandas as pd\n",
    "import matplotlib as mpl\n",
    "import matplotlib.pyplot as plt\n",
    "import matplotlib.mlab as mlab\n",
    "\n",
    "# General Plotting Parameters\n",
    "mpl.rcParams['figure.figsize'] = (8,5)\n",
    "mpl.rcParams['lines.linewidth'] = 2.5\n",
    "mpl.rcParams['font.weight'] = 'bold'\n",
    "mpl.rcParams['axes.linewidth'] = 1.5\n",
    "mpl.rcParams['font.size'] = 14.\n",
    "mpl.rcParams['legend.fontsize'] = 12.\n",
    "mpl.rcParams['axes.labelsize'] = 12.\n",
    "mpl.rcParams['xtick.labelsize'] = 10.\n",
    "mpl.rcParams['ytick.labelsize'] = 10.\n",
    "mpl.rcParams['xtick.minor.pad'] = 4\n",
    "mpl.rcParams['xtick.direction'] = 'out'\n",
    "mpl.rcParams['ytick.direction'] = 'out'\n",
    "\n",
    "#Git says this is patched, but it doesn't work from Pip --upgrade 26-mar-2015\n",
    "#mpl.rcParams['xtick.minor.visible'] = True  \n",
    "\n",
    "# These are the \"Tableau 20\" colors as RGB.  \n",
    "tableau20 = [(31, 119, 180), (174, 199, 232), (255, 127, 14),\n",
    "             (255, 187, 120), (44, 160, 44), (152, 223, 138),\n",
    "              (148, 103, 189),\n",
    "             (197, 176, 213), (140, 86, 75), (196, 156, 148),  \n",
    "             (227, 119, 194), (247, 182, 210), (127, 127, 127),\n",
    "             (199, 199, 199), (188, 189, 34), (219, 219, 141),\n",
    "             (23, 190, 207), (158, 218, 229),(214, 39, 40), (255, 152, 150)]  \n",
    "    \n",
    "# Scale the RGB values to the [0, 1] range,\n",
    "# which is the format matplotlib accepts.  \n",
    "for i in range(len(tableau20)): \n",
    "    r, g, b = tableau20[i]  \n",
    "    tableau20[i] = (r / 255., g / 255., b / 255.)  "
   ]
  },
  {
   "cell_type": "code",
   "execution_count": 2,
   "metadata": {
    "collapsed": true
   },
   "outputs": [],
   "source": [
    "import calc_enrich\n",
    "reload(calc_enrich)\n",
    "from calc_enrich import calc_del_U\n",
    "from calc_enrich import Npc_from_Nstages\n",
    "from calc_enrich import Nwc_from_Nstages\n",
    "from calc_enrich import calc_feed_flows\n",
    "from calc_enrich import find_N_stages\n",
    "from calc_enrich import design_cascade"
   ]
  },
  {
   "cell_type": "code",
   "execution_count": 3,
   "metadata": {
    "collapsed": false
   },
   "outputs": [],
   "source": [
    "# centrifuge params \n",
    "#omega = 64000\n",
    "#d = 0.1  # m \n",
    "#Z = 2.0   # m\n",
    "#F_m_hrs = 70 # grams/hr  \n",
    "#T = 320.0   # K\n",
    "#cut = 0.5\n",
    "eff = 1.0 # centrifuge efficiency\n",
    "\n",
    "d = 0.15  # m \n",
    "Z = 1.0   # m\n",
    "F_m_hrs = 15*60*60/(1e3) # grams/hr  \n",
    "T = 320.0# K\n",
    "cut = 0.5\n",
    "omega = 485/(d/2)\n",
    "\n",
    "# cascade params\n",
    "Nfc = 0.007\n",
    "Npc = 0.035\n",
    "Nwc = 0.003\n",
    "Fc_month = 739 #kg/month\n",
    "\n",
    "# The feed enrichment to be used when using a cascade designed for LEU to produce HEU.\n",
    "Nfc_mod = 0.20\n",
    "Fc_month_mod = Fc_month #kg/month\n",
    "#Fc_month_mod = 46 #kg/month\n",
    "\n",
    "#unit conversions\n",
    "kg_sec2kg_month = 30.4*24*60*60\n",
    "v_a = omega * (d/2.0)\n",
    "F_m = F_m_hrs/(60*60*1000.0)\n",
    "Fc = Fc_month/kg_sec2kg_month\n",
    "Fc_mod = Fc_month_mod/kg_sec2kg_month\n",
    "\n",
    "# Comparison numbers (not needed for calculations)\n",
    "del_U_th_yr = 1.1 #swu/yr\n",
    "del_U_obs_yr = 0.71 #Swu/yr\n",
    "del_U_th = del_U_th_yr/(365.25*24*60*60) #kgSWU/sec\n",
    "del_U_obs = del_U_obs_yr/(365.25*24*60*60)\n",
    "\n",
    "Pc_month = 77 #kg/month\n",
    "Pc = Pc_month/kg_sec2kg_month\n",
    "\n",
    "qty_len = 8\n",
    "assay_len = 4"
   ]
  },
  {
   "cell_type": "code",
   "execution_count": 4,
   "metadata": {
    "collapsed": false
   },
   "outputs": [
    {
     "name": "stdout",
     "output_type": "stream",
     "text": [
      "Stage   #Mach\t Feed    Product  Waste\t F_assay \tP_assay W_assay\n",
      "0 \t213.0 \t2956.0    1481.6    1474.4    0.007 \t0.0094 \t0.0052\n",
      "1 \t178.0 \t2463.33    1235.7    1227.63    0.0094 \t0.0126 \t0.007\n",
      "2 \t142.0 \t1970.67    989.67    981.0    0.0126 \t0.017 \t0.0094\n",
      "3 \t107.0 \t1478.0    743.36    734.64    0.017 \t0.0227 \t0.0126\n",
      "4 \t71.0 \t985.33    496.56    488.77    0.0227 \t0.0304 \t0.017\n",
      "5 \t36.0 \t492.67    248.94    243.73    0.0304 \t0.0405 \t0.0227\n",
      "-1 \t142.0 \t1970.67    987.12    983.55    0.0052 \t0.007 \t0.0039\n",
      "-2 \t71.0 \t985.33    493.33    492.0    0.0039 \t0.0052 \t0.0029\n",
      "total machines 960.0\n"
     ]
    }
   ],
   "source": [
    "alpha, del_U, del_U_yr = calc_del_U(v_a, Z, d, F_m, T, cut, eff)\n",
    "\n",
    "# Find the number of stages needed for enriching and stripping \n",
    "# (don't use the stages_per_cascade fn because it only works when alpha is close to 1)\n",
    "\n",
    "ideal_enrich_stage, ideal_strip_stage = find_N_stages(alpha, Nfc, Npc, Nwc)\n",
    "feed_flows = calc_feed_flows(ideal_enrich_stage, ideal_strip_stage, Fc, cut)\n",
    "all_stages, n_machines = design_cascade(alpha, del_U, Nfc, feed_flows, ideal_enrich_stage, ideal_strip_stage,\n",
    "                                        verbose=True, pretty=True, qty_len=qty_len)\n",
    "print \"total machines\", n_machines\n"
   ]
  },
  {
   "cell_type": "code",
   "execution_count": 5,
   "metadata": {
    "collapsed": false
   },
   "outputs": [
    {
     "name": "stdout",
     "output_type": "stream",
     "text": [
      "stage -2 Predicted flow  0.000375142137752  actual flow  0.00037446\n",
      "stage -1 Predicted flow  0.000750284275504  actual flow  0.00074916\n",
      "stage 0 Predicted flow  0.00112542641326  actual flow  0.00112456660331\n",
      "stage 1 Predicted flow  0.000937855344379  actual flow  0.00093757\n",
      "stage 2 Predicted flow  0.000750284275504  actual flow  0.00075016\n",
      "stage 3 Predicted flow  0.000562713206628  actual flow  0.00056288\n",
      "stage 4 Predicted flow  0.000375142137752  actual flow  0.00037581\n",
      "stage 5 Predicted flow  0.000187571068876  actual flow  0.00018905\n"
     ]
    }
   ],
   "source": [
    "tot_flow = 0\n",
    "p_last = 0\n",
    "w_next = 0\n",
    "for i in range(len(all_stages)):\n",
    "    if (i == 0):\n",
    "        p_last = 0\n",
    "    else:\n",
    "        p_last = all_stages[i-1][3]\n",
    "    if (i == len(all_stages)-1):\n",
    "        w_next = 0\n",
    "    else:\n",
    "        w_next = all_stages[i+1][4]\n",
    "    # If on stage zero then add feed also\n",
    "    if (i == (ideal_strip_stage)):\n",
    "        tot_flow = p_last+w_next+Fc\n",
    "    else:\n",
    "        tot_flow =  p_last+w_next\n",
    "    print \"stage\", i - ideal_strip_stage,\"Predicted flow \", feed_flows[i],\" actual flow \", tot_flow\n"
   ]
  },
  {
   "cell_type": "code",
   "execution_count": 6,
   "metadata": {
    "collapsed": false
   },
   "outputs": [
    {
     "name": "stdout",
     "output_type": "stream",
     "text": [
      "Casc. F (kg/s)  Casc. P\t\tCasc. W\t\t (P+W)/F\n",
      "0.00028136 \t9.478e-05 \t0.00018732 \t1.00263008246\n"
     ]
    }
   ],
   "source": [
    "## Check that mass is conserved in the cascade\n",
    "\n",
    "final_w = all_stages[0][4]\n",
    "final_p = all_stages[len(all_stages)-1][3]\n",
    "final_f = round(Fc,qty_len)\n",
    "\n",
    "res = final_f - final_p - final_w\n",
    "print \"Casc. F (kg/s)  Casc. P\\t\\tCasc. W\\t\\t (P+W)/F\"\n",
    "print  final_f, \"\\t\", final_p, \"\\t\", final_w, \"\\t\", (final_p+final_w)/final_f"
   ]
  },
  {
   "cell_type": "code",
   "execution_count": 7,
   "metadata": {
    "collapsed": false
   },
   "outputs": [
    {
     "name": "stdout",
     "output_type": "stream",
     "text": [
      "Stage   #Mach\t Feed    Product  Waste\t F_assay \tP_assay W_assay\n",
      "0 \t213.0 \t2956.0    1580.82    1375.18    0.2 \t0.252 \t0.1565\n",
      "1 \t178.0 \t2463.33    1339.64    1123.69    0.252 \t0.3123 \t0.2\n",
      "2 \t142.0 \t1970.67    1092.37    878.29    0.3123 \t0.3797 \t0.252\n",
      "3 \t107.0 \t1478.0    836.6    641.4    0.3797 \t0.4521 \t0.3123\n",
      "4 \t71.0 \t985.33    570.13    415.2    0.4521 \t0.5265 \t0.3797\n",
      "5 \t36.0 \t492.67    291.45    201.22    0.5265 \t0.5998 \t0.4521\n",
      "-1 \t142.0 \t1970.67    1038.96    931.71    0.1565 \t0.2 \t0.121\n",
      "-2 \t71.0 \t985.33    513.4    471.94    0.121 \t0.1565 \t0.0926\n"
     ]
    }
   ],
   "source": [
    "## Determine cascade production rate for off-design use\n",
    "\n",
    "Npc_mod = Npc_from_Nstages(alpha, Nfc_mod, ideal_enrich_stage)\n",
    "Nwc_mod = Nwc_from_Nstages(alpha, Nfc_mod, ideal_strip_stage)\n",
    "\n",
    "feed_flow_mod = calc_feed_flows(ideal_enrich_stage, ideal_strip_stage, Fc_mod, cut)\n",
    "\n",
    "mod_stages, n_m = design_cascade(alpha, del_U, Nfc_mod, feed_flow_mod, ideal_enrich_stage,\n",
    "                                 ideal_strip_stage, verbose=True, pretty=True, qty_len=qty_len)\n"
   ]
  },
  {
   "cell_type": "code",
   "execution_count": 8,
   "metadata": {
    "collapsed": false
   },
   "outputs": [
    {
     "name": "stdout",
     "output_type": "stream",
     "text": [
      "step size is 0.833333333333\n",
      "curr try 1 Tot mach 799.0 # in last stage:  30.0\n",
      "curr try 2 Tot mach 666.0 # in last stage:  25.0\n",
      "curr try 3 Tot mach 555.0 # in last stage:  21.0\n",
      "curr try 4 Tot mach 463.0 # in last stage:  17.0\n",
      "curr try 5 Tot mach 386.0 # in last stage:  14.0\n",
      "curr try 6 Tot mach 322.0 # in last stage:  12.0\n",
      "curr try 7 Tot mach 269.0 # in last stage:  10.0\n",
      "curr try 8 Tot mach 224.0 # in last stage:  8.0\n",
      "curr try 9 Tot mach 187.0 # in last stage:  7.0\n",
      "curr try 10 Tot mach 154.0 # in last stage:  6.0\n",
      "curr try 11 Tot mach 130.0 # in last stage:  5.0\n",
      "curr try 12 Tot mach 108.0 # in last stage:  4.0\n",
      "curr try 13 Tot mach 90.0 # in last stage:  3.0\n",
      "reduced flow to correct # 90.0\n",
      "Stage   #Mach\t Feed    Product  Waste\t F_assay \tP_assay W_assay\n",
      "0 \t20.0 \t276.28    138.48    137.8    0.007 \t0.0094 \t0.0052\n",
      "1 \t17.0 \t230.23    115.49    114.74    0.0094 \t0.0126 \t0.007\n",
      "2 \t13.0 \t184.19    92.5    91.69    0.0126 \t0.017 \t0.0094\n",
      "3 \t10.0 \t138.14    69.48    68.66    0.017 \t0.0227 \t0.0126\n",
      "4 \t7.0 \t92.09    46.41    45.68    0.0227 \t0.0304 \t0.017\n",
      "5 \t3.0 \t46.05    23.27    22.78    0.0304 \t0.0405 \t0.0227\n",
      "-1 \t13.0 \t184.19    92.26    91.93    0.0052 \t0.007 \t0.0039\n",
      "-2 \t7.0 \t92.09    46.11    45.98    0.0039 \t0.0052 \t0.0029\n",
      "Cascade can process  69.0698065715  kg/month\n",
      "Final total machines 90.0\n"
     ]
    }
   ],
   "source": [
    "## Design Cascade based on available number of centrifuges, determine max Fc\n",
    "max_centrifuges = 100\n",
    "curr_feed = Fc\n",
    "optimal_feed = Fc\n",
    "step_size = 1.2  # MUST be a number Greater than 1. \n",
    "step = 1\n",
    "ideal_enrich_stage, ideal_strip_stage = find_N_stages(alpha, Nfc, Npc, Nwc)\n",
    "feed_flows = calc_feed_flows(ideal_enrich_stage, ideal_strip_stage, curr_feed, cut)\n",
    "all_stages, n_centrifuges = design_cascade(alpha, del_U, Nfc, feed_flows, ideal_enrich_stage, ideal_strip_stage)\n",
    "\n",
    "optimum_number = False\n",
    "neg_inc = False\n",
    "pos_inc = False\n",
    "\n",
    "if (n_centrifuges < max_centrifuges):\n",
    "    pos_inc = True\n",
    "    step = step_size\n",
    "elif (n_centrifuges > max_centrifuges):\n",
    "    neg_inc = True\n",
    "    step = 1.0/step_size\n",
    "else:\n",
    "    optimum_number = True\n",
    "ntries=0\n",
    "print \"step size is\", step\n",
    "while (optimum_number == False) and (ntries < 100):\n",
    "    ntries+=1\n",
    "    last_feed = curr_feed\n",
    "    curr_feed *= step\n",
    "    feed_flows = calc_feed_flows(ideal_enrich_stage, ideal_strip_stage, curr_feed, cut)\n",
    "    all_stages, n_centrifuges = design_cascade(alpha, del_U, Nfc, feed_flows, ideal_enrich_stage, \n",
    "                                               ideal_strip_stage)\n",
    "    print \"curr try\", ntries, \"Tot mach\", n_centrifuges, \"# in last stage: \", all_stages[-1][1]\n",
    "    if (all_stages[-1][1] < 1):\n",
    "        print \"not enough centrifuges to fill all stages\"\n",
    "        optimum_number = True\n",
    "        optimal_feed = last_feed\n",
    "    elif (neg_inc == True) and (n_centrifuges < max_centrifuges):\n",
    "        optimum_number = True\n",
    "        optimal_feed = curr_feed\n",
    "        print \"reduced flow to correct #\", n_centrifuges\n",
    "    elif (pos_inc == True) and (n_centrifuges > max_centrifuges):\n",
    "        optimum_number = True\n",
    "        optimal_feed = last_feed\n",
    "        print \"increased flow to correct #\", n_centrifuges\n",
    "\n",
    "final_feed_flows = calc_feed_flows(ideal_enrich_stage, ideal_strip_stage, optimal_feed, cut)\n",
    "final_stages, final_n_mach = design_cascade(alpha, del_U, Nfc, final_feed_flows, \n",
    "                                            ideal_enrich_stage, ideal_strip_stage, verbose=True, pretty=True)\n",
    "print \"Cascade can process \", optimal_feed*kg_sec2kg_month, \" kg/month\"\n",
    "print \"Final total machines\", final_n_mach"
   ]
  },
  {
   "cell_type": "code",
   "execution_count": 9,
   "metadata": {
    "collapsed": false
   },
   "outputs": [],
   "source": [
    "## A cascade with a fixed number of centrifuges has a maximum flow rate already defined\n",
    "## This flow rate and production does not change with change to feed assay. Therefore the\n",
    "## only things that change with a modified cascade are the product and waste assays"
   ]
  },
  {
   "cell_type": "code",
   "execution_count": null,
   "metadata": {
    "collapsed": true
   },
   "outputs": [],
   "source": []
  }
 ],
 "metadata": {
  "kernelspec": {
   "display_name": "Python 2",
   "language": "python",
   "name": "python2"
  },
  "language_info": {
   "codemirror_mode": {
    "name": "ipython",
    "version": 2
   },
   "file_extension": ".py",
   "mimetype": "text/x-python",
   "name": "python",
   "nbconvert_exporter": "python",
   "pygments_lexer": "ipython2",
   "version": "2.7.10"
  }
 },
 "nbformat": 4,
 "nbformat_minor": 0
}
