{
 "cells": [
  {
   "cell_type": "code",
   "execution_count": 1,
   "metadata": {
    "collapsed": false
   },
   "outputs": [
    {
     "name": "stdout",
     "output_type": "stream",
     "text": [
      "Populating the interactive namespace from numpy and matplotlib\n"
     ]
    }
   ],
   "source": [
    "# Render our plots inline\n",
    "%matplotlib inline\n",
    "%pylab inline  \n",
    "import numpy as np\n",
    "import pandas as pd\n",
    "import matplotlib as mpl\n",
    "import matplotlib.pyplot as plt\n",
    "import matplotlib.mlab as mlab\n",
    "\n",
    "# General Plotting Parameters\n",
    "mpl.rcParams['figure.figsize'] = (8,5)\n",
    "mpl.rcParams['lines.linewidth'] = 2.5\n",
    "mpl.rcParams['font.weight'] = 'bold'\n",
    "mpl.rcParams['axes.linewidth'] = 1.5\n",
    "mpl.rcParams['font.size'] = 14.\n",
    "mpl.rcParams['legend.fontsize'] = 12.\n",
    "mpl.rcParams['axes.labelsize'] = 12.\n",
    "mpl.rcParams['xtick.labelsize'] = 10.\n",
    "mpl.rcParams['ytick.labelsize'] = 10.\n",
    "mpl.rcParams['xtick.minor.pad'] = 4\n",
    "mpl.rcParams['xtick.direction'] = 'out'\n",
    "mpl.rcParams['ytick.direction'] = 'out'\n",
    "\n",
    "#Git says this is patched, but it doesn't work from Pip --upgrade 26-mar-2015\n",
    "#mpl.rcParams['xtick.minor.visible'] = True  \n",
    "\n",
    "# These are the \"Tableau 20\" colors as RGB.  \n",
    "tableau20 = [(31, 119, 180), (174, 199, 232), (255, 127, 14),\n",
    "             (255, 187, 120), (44, 160, 44), (152, 223, 138),\n",
    "              (148, 103, 189),\n",
    "             (197, 176, 213), (140, 86, 75), (196, 156, 148),  \n",
    "             (227, 119, 194), (247, 182, 210), (127, 127, 127),\n",
    "             (199, 199, 199), (188, 189, 34), (219, 219, 141),\n",
    "             (23, 190, 207), (158, 218, 229),(214, 39, 40), (255, 152, 150)]  \n",
    "    \n",
    "# Scale the RGB values to the [0, 1] range,\n",
    "# which is the format matplotlib accepts.  \n",
    "for i in range(len(tableau20)): \n",
    "    r, g, b = tableau20[i]  \n",
    "    tableau20[i] = (r / 255., g / 255., b / 255.)  \n",
    "    \n",
    "plot_dir = './' \n",
    "\n",
    "ps = 1"
   ]
  },
  {
   "cell_type": "code",
   "execution_count": 2,
   "metadata": {
    "collapsed": false
   },
   "outputs": [],
   "source": [
    "import calc_enrich\n",
    "reload(calc_enrich)\n",
    "from calc_enrich import calc_del_U\n",
    "from calc_enrich import Npc_from_Nstages\n",
    "from calc_enrich import Nwc_from_Nstages\n",
    "from calc_enrich import calc_feed_flows\n",
    "from calc_enrich import find_N_stages\n",
    "from calc_enrich import design_cascade"
   ]
  },
  {
   "cell_type": "code",
   "execution_count": 3,
   "metadata": {
    "collapsed": false
   },
   "outputs": [],
   "source": [
    "# centrifuge params \n",
    "#omega = 64000\n",
    "#d = 0.1  # m \n",
    "#Z = 2.0   # m\n",
    "#F_m_hrs = 70 # grams/hr  \n",
    "#T = 320.0   # K\n",
    "#cut = 0.5\n",
    "eff = 1.0 # centrifuge efficiency\n",
    "\n",
    "d = 0.15  # m \n",
    "Z = 1.0   # m\n",
    "F_m_hrs = 15*60*60/(1e3) # grams/hr  \n",
    "T = 320.0# K\n",
    "cut = 0.5\n",
    "omega = 485/(d/2)\n",
    "\n",
    "# cascade params\n",
    "Nfc = 0.007\n",
    "Npc = 0.035\n",
    "Nwc = 0.003\n",
    "Fc_month = 739 #kg/month\n",
    "\n",
    "# The feed enrichment to be used when using a cascade designed for LEU to produce HEU.\n",
    "Nfc_mod = 0.20\n",
    "Fc_month_mod = Fc_month #kg/month\n",
    "#Fc_month_mod = 46 #kg/month\n",
    "\n",
    "#unit conversions\n",
    "kg_sec2kg_month = 30.4*24*60*60\n",
    "v_a = omega * (d/2.0)\n",
    "F_m = F_m_hrs/(60*60*1000.0)\n",
    "Fc = Fc_month/kg_sec2kg_month\n",
    "Fc_mod = Fc_month_mod/kg_sec2kg_month\n",
    "\n",
    "# Comparison numbers (not needed for calculations)\n",
    "del_U_th_yr = 1.1 #swu/yr\n",
    "del_U_obs_yr = 0.71 #Swu/yr\n",
    "del_U_th = del_U_th_yr/(365.25*24*60*60) #kgSWU/sec\n",
    "del_U_obs = del_U_obs_yr/(365.25*24*60*60)\n",
    "\n",
    "Pc_month = 77 #kg/month\n",
    "Pc = Pc_month/kg_sec2kg_month\n",
    "\n",
    "qty_len = 8\n",
    "assay_len = 4"
   ]
  },
  {
   "cell_type": "code",
   "execution_count": 4,
   "metadata": {
    "collapsed": false
   },
   "outputs": [
    {
     "name": "stdout",
     "output_type": "stream",
     "text": [
      "Stage   #Mach\t Feed    Product  Waste\t F_assay \tP_assay W_assay\n",
      "0 \t214 \t2956.0    1478.0    1478.0    0.007 \t0.0094 \t0.0052\n",
      "1 \t178 \t2463.33    1231.67    1231.67    0.0094 \t0.0126 \t0.007\n",
      "2 \t143 \t1970.67    985.33    985.33    0.0126 \t0.017 \t0.0094\n",
      "3 \t107 \t1478.0    739.0    739.0    0.017 \t0.0227 \t0.0126\n",
      "4 \t72 \t985.33    492.67    492.67    0.0227 \t0.0304 \t0.017\n",
      "5 \t36 \t492.67    246.33    246.33    0.0304 \t0.0405 \t0.0227\n",
      "-1 \t143 \t1970.67    985.33    985.33    0.0052 \t0.007 \t0.0039\n",
      "-2 \t72 \t985.33    492.67    492.67    0.0039 \t0.0052 \t0.0029\n",
      "total machines 965\n"
     ]
    }
   ],
   "source": [
    "alpha, del_U, del_U_yr, dirac = calc_del_U(v_a, Z, d, F_m, T, cut, eff)\n",
    "\n",
    "# Find the number of stages needed for enriching and stripping \n",
    "# (don't use the stages_per_cascade fn because it only works when alpha is close to 1)\n",
    "\n",
    "ideal_enrich_stage, ideal_strip_stage = find_N_stages(alpha, Nfc, Npc, Nwc)\n",
    "feed_flows = calc_feed_flows(ideal_enrich_stage, ideal_strip_stage, Fc, cut)\n",
    "all_stages, n_machines = design_cascade(cut, alpha, del_U, Nfc, feed_flows, ideal_enrich_stage, ideal_strip_stage,\n",
    "                                        verbose=True, pretty=True, qty_len=qty_len)\n",
    "print \"total machines\", n_machines\n"
   ]
  },
  {
   "cell_type": "code",
   "execution_count": 5,
   "metadata": {
    "collapsed": false
   },
   "outputs": [
    {
     "name": "stdout",
     "output_type": "stream",
     "text": [
      "stage -2 Predicted flow  0.000375142137752  actual flow  0.000375142137752\n",
      "stage -1 Predicted flow  0.000750284275504  actual flow  0.000750284275504\n",
      "stage 0 Predicted flow  0.00112542641326  actual flow  0.00112542641326\n",
      "stage 1 Predicted flow  0.000937855344379  actual flow  0.000937855344379\n",
      "stage 2 Predicted flow  0.000750284275504  actual flow  0.000750284275504\n",
      "stage 3 Predicted flow  0.000562713206628  actual flow  0.000562713206628\n",
      "stage 4 Predicted flow  0.000375142137752  actual flow  0.000375142137752\n",
      "stage 5 Predicted flow  0.000187571068876  actual flow  0.000187571068876\n"
     ]
    }
   ],
   "source": [
    "tot_flow = 0\n",
    "p_last = 0\n",
    "w_next = 0\n",
    "for i in range(len(all_stages)):\n",
    "    if (i == 0):\n",
    "        p_last = 0\n",
    "    else:\n",
    "        p_last = all_stages[i-1][3]\n",
    "    if (i == len(all_stages)-1):\n",
    "        w_next = 0\n",
    "    else:\n",
    "        w_next = all_stages[i+1][4]\n",
    "    # If on stage zero then add feed also\n",
    "    if (i == (ideal_strip_stage)):\n",
    "        tot_flow = p_last+w_next+Fc\n",
    "    else:\n",
    "        tot_flow =  p_last+w_next\n",
    "    print \"stage\", i - ideal_strip_stage,\"Predicted flow \", feed_flows[i],\" actual flow \", tot_flow\n"
   ]
  },
  {
   "cell_type": "code",
   "execution_count": 6,
   "metadata": {
    "collapsed": false
   },
   "outputs": [
    {
     "name": "stdout",
     "output_type": "stream",
     "text": [
      "Casc. F (kg/s)  Casc. P\t\tCasc. W\t\t (P+W)/F\n",
      "0.000281356603314 \t9.37855344379e-05 \t0.000187571068876 \t1.0\n"
     ]
    }
   ],
   "source": [
    "## Check that mass is conserved in the cascade\n",
    "\n",
    "final_w = all_stages[0][4]\n",
    "final_p = all_stages[len(all_stages)-1][3]\n",
    "#final_f = round(Fc,qty_len)\n",
    "final_f = Fc\n",
    "\n",
    "res = final_f - final_p - final_w\n",
    "print \"Casc. F (kg/s)  Casc. P\\t\\tCasc. W\\t\\t (P+W)/F\"\n",
    "print  final_f, \"\\t\", final_p, \"\\t\", final_w, \"\\t\", (final_p+final_w)/final_f"
   ]
  },
  {
   "cell_type": "code",
   "execution_count": 7,
   "metadata": {
    "collapsed": false
   },
   "outputs": [
    {
     "name": "stdout",
     "output_type": "stream",
     "text": [
      "Stage   #Mach\t Feed    Product  Waste\t F_assay \tP_assay W_assay\n",
      "0 \t214 \t2956.0    1478.0    1478.0    0.2 \t0.252 \t0.1565\n",
      "1 \t178 \t2463.33    1231.67    1231.67    0.252 \t0.3123 \t0.2\n",
      "2 \t143 \t1970.67    985.33    985.33    0.3123 \t0.3797 \t0.252\n",
      "3 \t107 \t1478.0    739.0    739.0    0.3797 \t0.4521 \t0.3123\n",
      "4 \t72 \t985.33    492.67    492.67    0.4521 \t0.5265 \t0.3797\n",
      "5 \t36 \t492.67    246.33    246.33    0.5265 \t0.5998 \t0.4521\n",
      "-1 \t143 \t1970.67    985.33    985.33    0.1565 \t0.2 \t0.121\n",
      "-2 \t72 \t985.33    492.67    492.67    0.121 \t0.1565 \t0.0926\n"
     ]
    }
   ],
   "source": [
    "## Determine cascade production rate for off-design use\n",
    "\n",
    "Npc_mod = Npc_from_Nstages(alpha, Nfc_mod, ideal_enrich_stage)\n",
    "Nwc_mod = Nwc_from_Nstages(alpha, Nfc_mod, ideal_strip_stage)\n",
    "\n",
    "feed_flow_mod = calc_feed_flows(ideal_enrich_stage, ideal_strip_stage, Fc_mod, cut)\n",
    "\n",
    "mod_stages, n_m = design_cascade(cut, alpha, del_U, Nfc_mod, feed_flow_mod, ideal_enrich_stage,\n",
    "                                 ideal_strip_stage, verbose=True, pretty=True, qty_len=qty_len)\n"
   ]
  },
  {
   "cell_type": "code",
   "execution_count": 8,
   "metadata": {
    "collapsed": false
   },
   "outputs": [
    {
     "name": "stdout",
     "output_type": "stream",
     "text": [
      "step size is 0.833333333333\n",
      "curr try 1 Tot mach 804 # in last stage:  30\n",
      "curr try 2 Tot mach 671 # in last stage:  25\n",
      "curr try 3 Tot mach 560 # in last stage:  21\n",
      "curr try 4 Tot mach 467 # in last stage:  18\n",
      "curr try 5 Tot mach 390 # in last stage:  15\n",
      "curr try 6 Tot mach 324 # in last stage:  12\n",
      "curr try 7 Tot mach 270 # in last stage:  10\n",
      "curr try 8 Tot mach 228 # in last stage:  9\n",
      "curr try 9 Tot mach 189 # in last stage:  7\n",
      "curr try 10 Tot mach 158 # in last stage:  6\n",
      "curr try 11 Tot mach 133 # in last stage:  5\n",
      "curr try 12 Tot mach 108 # in last stage:  4\n",
      "curr try 13 Tot mach 93 # in last stage:  4\n",
      "reduced flow to correct # 93\n",
      "Stage   #Mach\t Feed    Product  Waste\t F_assay \tP_assay W_assay\n",
      "0 \t20 \t276.28    138.14    138.14    0.007 \t0.0094 \t0.0052\n",
      "1 \t17 \t230.23    115.12    115.12    0.0094 \t0.0126 \t0.007\n",
      "2 \t14 \t184.19    92.09    92.09    0.0126 \t0.017 \t0.0094\n",
      "3 \t10 \t138.14    69.07    69.07    0.017 \t0.0227 \t0.0126\n",
      "4 \t7 \t92.09    46.05    46.05    0.0227 \t0.0304 \t0.017\n",
      "5 \t4 \t46.05    23.02    23.02    0.0304 \t0.0405 \t0.0227\n",
      "-1 \t14 \t184.19    92.09    92.09    0.0052 \t0.007 \t0.0039\n",
      "-2 \t7 \t92.09    46.05    46.05    0.0039 \t0.0052 \t0.0029\n",
      "Cascade can process  69.0698065715  kg/month\n",
      "Final total machines 93\n",
      "[-2, 7, 3.5062239365824759e-05, 1.753111968291238e-05, 1.753111968291238e-05, 0.0038654277922029537, 0.0052029381772639672, 0.0028707566866247409]\n"
     ]
    }
   ],
   "source": [
    "## Design Cascade based on available number of centrifuges, determine max Fc\n",
    "max_centrifuges = 100\n",
    "curr_feed = Fc\n",
    "optimal_feed = Fc\n",
    "step_size = 1.2  # MUST be a number Greater than 1. \n",
    "step = 1\n",
    "ideal_enrich_stage, ideal_strip_stage = find_N_stages(alpha, Nfc, Npc, Nwc)\n",
    "feed_flows = calc_feed_flows(ideal_enrich_stage, ideal_strip_stage, curr_feed, cut)\n",
    "all_stages, n_centrifuges = design_cascade(cut, alpha, del_U, Nfc, feed_flows, ideal_enrich_stage, ideal_strip_stage)\n",
    "\n",
    "optimum_number = False\n",
    "neg_inc = False\n",
    "pos_inc = False\n",
    "\n",
    "if (n_centrifuges < max_centrifuges):\n",
    "    pos_inc = True\n",
    "    step = step_size\n",
    "elif (n_centrifuges > max_centrifuges):\n",
    "    neg_inc = True\n",
    "    step = 1.0/step_size\n",
    "else:\n",
    "    optimum_number = True\n",
    "ntries=0\n",
    "print \"step size is\", step\n",
    "while (optimum_number == False) and (ntries < 100):\n",
    "    ntries+=1\n",
    "    last_feed = curr_feed\n",
    "    curr_feed *= step\n",
    "    feed_flows = calc_feed_flows(ideal_enrich_stage, ideal_strip_stage, curr_feed, cut)\n",
    "    all_stages, n_centrifuges = design_cascade(cut, alpha, del_U, Nfc, feed_flows, ideal_enrich_stage, \n",
    "                                               ideal_strip_stage)\n",
    "    print \"curr try\", ntries, \"Tot mach\", n_centrifuges, \"# in last stage: \", all_stages[-1][1]\n",
    "    if (all_stages[-1][1] < 1):\n",
    "        print \"not enough centrifuges to fill all stages\"\n",
    "        optimum_number = True\n",
    "        optimal_feed = last_feed\n",
    "    elif (neg_inc == True) and (n_centrifuges < max_centrifuges):\n",
    "        optimum_number = True\n",
    "        optimal_feed = curr_feed\n",
    "        print \"reduced flow to correct #\", n_centrifuges\n",
    "    elif (pos_inc == True) and (n_centrifuges > max_centrifuges):\n",
    "        optimum_number = True\n",
    "        optimal_feed = last_feed\n",
    "        print \"increased flow to correct #\", n_centrifuges\n",
    "\n",
    "final_feed_flows = calc_feed_flows(ideal_enrich_stage, ideal_strip_stage, optimal_feed, cut)\n",
    "final_stages, final_n_mach = design_cascade(cut, alpha, del_U, Nfc, final_feed_flows, \n",
    "                                            ideal_enrich_stage, ideal_strip_stage, verbose=True, pretty=True)\n",
    "print \"Cascade can process \", optimal_feed*kg_sec2kg_month, \" kg/month\"\n",
    "print \"Final total machines\", final_n_mach\n",
    "print final_stages[:][0]"
   ]
  },
  {
   "cell_type": "code",
   "execution_count": 9,
   "metadata": {
    "collapsed": false
   },
   "outputs": [],
   "source": [
    "## A cascade with a fixed number of centrifuges has a maximum flow rate already defined\n",
    "## This flow rate and production does not change with change to feed assay. Therefore the\n",
    "## only things that change with a modified cascade are the product and waste assays"
   ]
  },
  {
   "cell_type": "code",
   "execution_count": 10,
   "metadata": {
    "collapsed": false
   },
   "outputs": [
    {
     "name": "stderr",
     "output_type": "stream",
     "text": [
      "/Users/mbmcgarry/Library/Python/2.7/lib/python/site-packages/matplotlib/axes/_axes.py:475: UserWarning: No labelled objects found. Use label='...' kwarg on individual plots.\n",
      "  warnings.warn(\"No labelled objects found. \"\n"
     ]
    },
    {
     "data": {
      "image/png": "[encoded data removed]",
      "text/plain": [
       "<matplotlib.figure.Figure at 0x10f1438d0>"
      ]
     },
     "metadata": {},
     "output_type": "display_data"
    }
   ],
   "source": [
    "all_stages = []\n",
    "\n",
    "for s in range(len(final_stages)):\n",
    "    all_stages.append([final_stages[s][0],final_stages[s][1]])\n",
    "\n",
    "fs = np.array(all_stages)\n",
    "bar_width = 0.8\n",
    "bar_res = plt.bar(fs[:,0]-0.4, fs[:,1], bar_width)\n",
    "\n",
    "plt.xlabel('Stage')\n",
    "plt.ylabel('# Centrifuges')\n",
    "plt.title(str(int(final_n_mach)) + \" Centrifuge Cascade\")\n",
    "plt.legend()\n",
    "plt.ylim((0,1.2*fs[:,1].max()))\n",
    "plt.tight_layout()\n",
    "\n",
    "if ps == 1:\n",
    "    savefig(plot_dir + 'cascade_design.png')\n",
    "\n",
    "plt.show()\n"
   ]
  },
  {
   "cell_type": "code",
   "execution_count": null,
   "metadata": {
    "collapsed": true
   },
   "outputs": [],
   "source": []
  }
 ],
 "metadata": {
  "kernelspec": {
   "display_name": "Python 2",
   "language": "python",
   "name": "python2"
  },
  "language_info": {
   "codemirror_mode": {
    "name": "ipython",
    "version": 2
   },
   "file_extension": ".py",
   "mimetype": "text/x-python",
   "name": "python",
   "nbconvert_exporter": "python",
   "pygments_lexer": "ipython2",
   "version": "2.7.10"
  }
 },
 "nbformat": 4,
 "nbformat_minor": 0
}
