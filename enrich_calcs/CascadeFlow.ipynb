{
 "cells": [
  {
   "cell_type": "code",
   "execution_count": 121,
   "metadata": {
    "collapsed": false
   },
   "outputs": [
    {
     "name": "stdout",
     "output_type": "stream",
     "text": [
      "Populating the interactive namespace from numpy and matplotlib\n"
     ]
    }
   ],
   "source": [
    "# Render our plots inline\n",
    "%matplotlib inline\n",
    "%pylab inline  \n",
    "import numpy as np\n",
    "import pandas as pd\n",
    "import matplotlib as mpl\n",
    "import matplotlib.pyplot as plt\n",
    "import matplotlib.mlab as mlab\n",
    "\n",
    "# General Plotting Parameters\n",
    "mpl.rcParams['figure.figsize'] = (8,5)\n",
    "mpl.rcParams['lines.linewidth'] = 2.5\n",
    "mpl.rcParams['font.weight'] = 'bold'\n",
    "mpl.rcParams['axes.linewidth'] = 1.5\n",
    "mpl.rcParams['font.size'] = 14.\n",
    "mpl.rcParams['legend.fontsize'] = 12.\n",
    "mpl.rcParams['axes.labelsize'] = 12.\n",
    "mpl.rcParams['xtick.labelsize'] = 10.\n",
    "mpl.rcParams['ytick.labelsize'] = 10.\n",
    "mpl.rcParams['xtick.minor.pad'] = 4\n",
    "mpl.rcParams['xtick.direction'] = 'out'\n",
    "mpl.rcParams['ytick.direction'] = 'out'\n",
    "\n",
    "#Git says this is patched, but it doesn't work from Pip --upgrade 26-mar-2015\n",
    "#mpl.rcParams['xtick.minor.visible'] = True  \n",
    "\n",
    "# These are the \"Tableau 20\" colors as RGB.  \n",
    "tableau20 = [(31, 119, 180), (174, 199, 232), (255, 127, 14),\n",
    "             (255, 187, 120), (44, 160, 44), (152, 223, 138),\n",
    "              (148, 103, 189),\n",
    "             (197, 176, 213), (140, 86, 75), (196, 156, 148),  \n",
    "             (227, 119, 194), (247, 182, 210), (127, 127, 127),\n",
    "             (199, 199, 199), (188, 189, 34), (219, 219, 141),\n",
    "             (23, 190, 207), (158, 218, 229),(214, 39, 40), (255, 152, 150)]  \n",
    "    \n",
    "# Scale the RGB values to the [0, 1] range,\n",
    "# which is the format matplotlib accepts.  \n",
    "for i in range(len(tableau20)): \n",
    "    r, g, b = tableau20[i]  \n",
    "    tableau20[i] = (r / 255., g / 255., b / 255.)  "
   ]
  },
  {
   "cell_type": "code",
   "execution_count": 122,
   "metadata": {
    "collapsed": true
   },
   "outputs": [],
   "source": [
    "import calc_enrich\n",
    "reload(calc_enrich)\n",
    "from calc_enrich import calc_del_U\n",
    "from calc_enrich import stages_per_cascade\n",
    "from calc_enrich import N_product_by_alpha\n",
    "from calc_enrich import N_waste_by_alpha\n",
    "from calc_enrich import machines_per_enr_stage\n",
    "from calc_enrich import machines_per_strip_stage\n",
    "from calc_enrich import product_per_enr_stage\n",
    "from calc_enrich import waste_per_strip_stage\n",
    "from calc_enrich import Npc_from_Nstages\n",
    "from calc_enrich import Nwc_from_Nstages\n",
    "from calc_enrich import machines_per_cascade\n",
    "from calc_enrich import allowed_feed_per_stage\n",
    "from calc_enrich import calc_feed_flows"
   ]
  },
  {
   "cell_type": "code",
   "execution_count": 123,
   "metadata": {
    "collapsed": false
   },
   "outputs": [],
   "source": [
    "# centrifuge params \n",
    "#omega = 64000\n",
    "#d = 0.1  # m \n",
    "#Z = 2.0   # m\n",
    "#F_m_hrs = 70 # grams/hr  \n",
    "#T = 320.0   # K\n",
    "#cut = 0.5\n",
    "eff = 1.0 # centrifuge efficiency\n",
    "\n",
    "d = 0.15  # m \n",
    "Z = 1.0   # m\n",
    "F_m_hrs = 15*60*60/(1e3) # grams/hr  \n",
    "T = 320.0# K\n",
    "cut = 0.5\n",
    "omega = 485/(d/2)\n",
    "\n",
    "# cascade params\n",
    "Nfc = 0.007\n",
    "Npc = 0.035\n",
    "Nwc = 0.003\n",
    "Fc_month = 739 #kg/month\n",
    "\n",
    "# The feed enrichment to be used when using a cascade designed for LEU to produce HEU.\n",
    "Nfc_mod = 0.035\n",
    "Fc_month_mod = Fc_month #kg/month\n",
    "#Fc_month_mod = 46 #kg/month\n",
    "\n",
    "#unit conversions\n",
    "kg_sec2kg_month = 30.4*24*60*60\n",
    "v_a = omega * (d/2.0)\n",
    "F_m = F_m_hrs/(60*60*1000.0)\n",
    "Fc = Fc_month/kg_sec2kg_month\n",
    "Fc_mod = Fc_month_mod/kg_sec2kg_month\n",
    "\n",
    "# Comparison numbers (not needed for calculations)\n",
    "del_U_th_yr = 1.1 #swu/yr\n",
    "del_U_obs_yr = 0.71 #Swu/yr\n",
    "del_U_th = del_U_th_yr/(365.25*24*60*60) #kgSWU/sec\n",
    "del_U_obs = del_U_obs_yr/(365.25*24*60*60)\n",
    "\n",
    "Pc_month = 77 #kg/month\n",
    "Pc = Pc_month/kg_sec2kg_month\n",
    "\n",
    "qty_len = 6\n",
    "assay_len = 3"
   ]
  },
  {
   "cell_type": "code",
   "execution_count": 124,
   "metadata": {
    "collapsed": false
   },
   "outputs": [
    {
     "name": "stdout",
     "output_type": "stream",
     "text": [
      "del_U is 3.1939942861e-07  alpha is  1.34782845204\n",
      "5 2\n"
     ]
    },
    {
     "data": {
      "text/plain": [
       "array([ 0.0003517 ,  0.00070339,  0.00105509,  0.00084407,  0.00063305,\n",
       "        0.00042203,  0.00021102])"
      ]
     },
     "execution_count": 124,
     "metadata": {},
     "output_type": "execute_result"
    }
   ],
   "source": [
    "alpha, del_U, del_U_yr = calc_del_U(v_a, Z, d, F_m, T, cut, eff)\n",
    "ideal_enrich_s, ideal_strip_s= stages_per_cascade(alpha, Nfc, Npc, Nwc)\n",
    "print \"del_U is\", del_U, \" alpha is \", alpha\n",
    "\n",
    "feed_flows = calc_steady_flow(int(round(ideal_enrich_s)), int(round(ideal_strip_s)), Fc, cut)\n",
    "print int(round(ideal_enrich_s)), int(round(ideal_strip_s))\n",
    "feed_flows\n"
   ]
  },
  {
   "cell_type": "code",
   "execution_count": 136,
   "metadata": {
    "collapsed": false
   },
   "outputs": [
    {
     "name": "stdout",
     "output_type": "stream",
     "text": [
      "Stage   #Mach   Feed\t    Product\t Waste\t   F_assay \tP_assay W_assay\n",
      "0 \t200.0 \t0.001055    0.000529    0.000526    0.007 \t0.009 \t0.005\n",
      "1 \t160.0 \t0.000844    0.000423    0.000421    0.009 \t0.013 \t0.007\n",
      "2 \t120.0 \t0.000633    0.000318    0.000315    0.013 \t0.017 \t0.009\n",
      "3 \t80.0 \t0.000422    0.000212    0.00021    0.017 \t0.023 \t0.013\n",
      "4 \t40.0 \t0.000211    0.000106    0.000105    0.023 \t0.03 \t0.017\n"
     ]
    }
   ],
   "source": [
    "\n",
    "Nfs = Nfc\n",
    "print \"Stage   #Mach   Feed\\t    Product\\t Waste\\t   F_assay \\tP_assay W_assay\"\n",
    "all_stages = []\n",
    "for stage in range(int(round(ideal_enrich_s))):\n",
    "    curr_stage = stage + int(round(ideal_strip_s))\n",
    "    Fs = feed_flows[curr_stage]\n",
    "    n_mach_enr = round(machines_per_enr_stage(alpha, del_U, Fs))\n",
    "    if (n_mach_enr <= 1):\n",
    "        int_mach = False\n",
    "    Nps = N_product_by_alpha(alpha, Nfs)\n",
    "    Ps = product_per_enr_stage(alpha, Nfs, Nps, Fs)\n",
    "    Ws = Fs - Ps\n",
    "    Nws = N_waste_by_alpha(alpha, Nfs)\n",
    "    enrich_stages.append([stage, n_mach_enr, Fs, Ps, Ws])\n",
    "    if (stage == 0):\n",
    "        W_enr1 = Ws\n",
    "        Nw_1 = Nws\n",
    "    print stage, \"\\t\", n_mach_enr,\"\\t\", round(Fs,qty_len), \"  \",round(Ps, qty_len), \"  \",round(Ws, qty_len),\"  \", round(Nfs, assay_len), \"\\t\",round(Nps, assay_len),\"\\t\", round(Nws, assay_len)\n",
    "    Nfs = Nps\n",
    "\n"
   ]
  },
  {
   "cell_type": "code",
   "execution_count": 141,
   "metadata": {
    "collapsed": false
   },
   "outputs": [
    {
     "name": "stdout",
     "output_type": "stream",
     "text": [
      "Stage   #Mach   Feed\t    Product\t Waste\t   F_assay \tP_assay W_assay\n",
      "-1 \t67.0 \t0.000352    0.000216    0.000136    0.005 \t0.007 \t0.004\n",
      "-2 \t133.0 \t0.000703    -inf    inf    0.004 \t0.005 \t0.003\n"
     ]
    }
   ],
   "source": [
    "\n",
    "Nfs = Nw_1\n",
    "print \"Stage   #Mach   Feed\\t    Product\\t Waste\\t   F_assay \\tP_assay W_assay\"\n",
    "\n",
    "for stage in range(int(round(ideal_strip_s))):\n",
    "    curr_stage = stage\n",
    "    Fs = feed_flows[curr_stage]\n",
    "    n_mach_strip = round(machines_per_strip_stage(alpha, del_U, Fs))\n",
    "    if (n_mach_enr <= 1):\n",
    "        int_mach = False\n",
    "    Nps = N_product_by_alpha(alpha, Nfs)\n",
    "    Ws = waste_per_strip_stage(alpha, Nfs, Nws, Fs)\n",
    "    Ps = Fs - Ws\n",
    "    Nws = N_waste_by_alpha(alpha, Nfs)\n",
    "    strip_stages.append([-1*(stage+1), n_mach_strip, Fs, Ps, Ws])\n",
    "    print -1*(stage+1), \"\\t\",n_mach_strip ,\"\\t\", round(Fs,qty_len), \"  \",round(Ps, qty_len), \"  \",round(Ws, qty_len),\"  \", round(Nfs, assay_len), \"\\t\",round(Nps, assay_len),\"\\t\", round(Nws, assay_len)\n",
    "    Nfs = Nws\n",
    "\n",
    "\n",
    "## NOT CORRECT ##"
   ]
  },
  {
   "cell_type": "code",
   "execution_count": null,
   "metadata": {
    "collapsed": false
   },
   "outputs": [],
   "source": []
  },
  {
   "cell_type": "code",
   "execution_count": 127,
   "metadata": {
    "collapsed": false
   },
   "outputs": [
    {
     "name": "stdout",
     "output_type": "stream",
     "text": [
      "Feed for strip (kg/mon) 184.593536625\n",
      "stage, #mach,       Feed,    W_strip,   Nf_strip,   Nw_strip\n"
     ]
    },
    {
     "ename": "NameError",
     "evalue": "name 'Nf_strip' is not defined",
     "output_type": "error",
     "traceback": [
      "\u001b[0;31m---------------------------------------------------------------------------\u001b[0m",
      "\u001b[0;31mNameError\u001b[0m                                 Traceback (most recent call last)",
      "\u001b[0;32m<ipython-input-127-eee3d1024d3c>\u001b[0m in \u001b[0;36m<module>\u001b[0;34m()\u001b[0m\n\u001b[1;32m     12\u001b[0m  \u001b[0;32mif\u001b[0m \u001b[0;34m(\u001b[0m\u001b[0mn_mach_s\u001b[0m \u001b[0;34m<=\u001b[0m \u001b[0;36m1\u001b[0m\u001b[0;34m)\u001b[0m\u001b[0;34m:\u001b[0m\u001b[0;34m\u001b[0m\u001b[0m\n\u001b[1;32m     13\u001b[0m      \u001b[0mint_stages\u001b[0m \u001b[0;34m=\u001b[0m \u001b[0mFalse\u001b[0m\u001b[0;34m\u001b[0m\u001b[0m\n\u001b[0;32m---> 14\u001b[0;31m  \u001b[0mNw_strip\u001b[0m \u001b[0;34m=\u001b[0m \u001b[0mN_waste_by_alpha\u001b[0m\u001b[0;34m(\u001b[0m\u001b[0malpha\u001b[0m\u001b[0;34m,\u001b[0m \u001b[0mNf_strip\u001b[0m\u001b[0;34m)\u001b[0m\u001b[0;34m\u001b[0m\u001b[0m\n\u001b[0m\u001b[1;32m     15\u001b[0m  \u001b[0mW_strip\u001b[0m \u001b[0;34m=\u001b[0m \u001b[0mwaste_per_strip_stage\u001b[0m\u001b[0;34m(\u001b[0m\u001b[0malpha\u001b[0m\u001b[0;34m,\u001b[0m \u001b[0mNf_strip\u001b[0m\u001b[0;34m,\u001b[0m \u001b[0mNw_strip\u001b[0m\u001b[0;34m,\u001b[0m \u001b[0mF_strip\u001b[0m\u001b[0;34m)\u001b[0m\u001b[0;34m\u001b[0m\u001b[0m\n\u001b[1;32m     16\u001b[0m  \u001b[0mstrip_stages\u001b[0m\u001b[0;34m.\u001b[0m\u001b[0mappend\u001b[0m\u001b[0;34m(\u001b[0m\u001b[0;34m[\u001b[0m\u001b[0;34m-\u001b[0m\u001b[0;36m1\u001b[0m\u001b[0;34m*\u001b[0m\u001b[0;34m(\u001b[0m\u001b[0mn_stage_str\u001b[0m\u001b[0;34m+\u001b[0m\u001b[0;36m1\u001b[0m\u001b[0;34m)\u001b[0m\u001b[0;34m,\u001b[0m\u001b[0mn_mach_s\u001b[0m\u001b[0;34m]\u001b[0m\u001b[0;34m)\u001b[0m\u001b[0;34m\u001b[0m\u001b[0m\n",
      "\u001b[0;31mNameError\u001b[0m: name 'Nf_strip' is not defined"
     ]
    }
   ],
   "source": [
    "   \n",
    "    \n",
    "epsilon = alpha - 1.0\n",
    "F_strip = W_enr1\n",
    "print \"Feed for strip (kg/mon)\", F_strip*kg_sec2kg_month\n",
    "# Consider the zeroth stage of cascade to be on enrich side (iterate from 0), \n",
    "# then iterate from 1 for strip side\n",
    "print \"stage, #mach,       Feed,    W_strip,   Nf_strip,   Nw_strip\"\n",
    "int_stages = True\n",
    "while (int_stages == True):\n",
    "    n_mach_s= round(machines_per_strip_stage(alpha, del_U, F_strip))\n",
    "    if (n_mach_s <= 1):\n",
    "        int_stages = False\n",
    "    Nw_strip = N_waste_by_alpha(alpha, Nf_strip)\n",
    "    W_strip = waste_per_strip_stage(alpha, Nf_strip, Nw_strip, F_strip)\n",
    "    strip_stages.append([-1*(n_stage_str+1),n_mach_s])\n",
    "    print n_stage_str, n_mach_s, F_strip, W_strip, Nf_strip, Nw_strip\n",
    "    F_strip = W_strip\n",
    "    Nf_strip = Nw_strip\n",
    "    n_stage_str+=1\n",
    "\n",
    "print \"waste of cascade (kg/mon)\" , W_strip*kg_sec2kg_month\n"
   ]
  },
  {
   "cell_type": "code",
   "execution_count": null,
   "metadata": {
    "collapsed": true
   },
   "outputs": [],
   "source": []
  }
 ],
 "metadata": {
  "kernelspec": {
   "display_name": "Python 2",
   "language": "python",
   "name": "python2"
  },
  "language_info": {
   "codemirror_mode": {
    "name": "ipython",
    "version": 2
   },
   "file_extension": ".py",
   "mimetype": "text/x-python",
   "name": "python",
   "nbconvert_exporter": "python",
   "pygments_lexer": "ipython2",
   "version": "2.7.10"
  }
 },
 "nbformat": 4,
 "nbformat_minor": 0
}
