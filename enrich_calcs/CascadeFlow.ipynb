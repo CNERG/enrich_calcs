{
 "cells": [
  {
   "cell_type": "code",
   "execution_count": 20,
   "metadata": {
    "collapsed": false
   },
   "outputs": [
    {
     "name": "stdout",
     "output_type": "stream",
     "text": [
      "Populating the interactive namespace from numpy and matplotlib\n"
     ]
    }
   ],
   "source": [
    "# Render our plots inline\n",
    "%matplotlib inline\n",
    "%pylab inline  \n",
    "import numpy as np\n",
    "import pandas as pd\n",
    "import matplotlib as mpl\n",
    "import matplotlib.pyplot as plt\n",
    "import matplotlib.mlab as mlab\n",
    "\n",
    "# General Plotting Parameters\n",
    "mpl.rcParams['figure.figsize'] = (8,5)\n",
    "mpl.rcParams['lines.linewidth'] = 2.5\n",
    "mpl.rcParams['font.weight'] = 'bold'\n",
    "mpl.rcParams['axes.linewidth'] = 1.5\n",
    "mpl.rcParams['font.size'] = 14.\n",
    "mpl.rcParams['legend.fontsize'] = 12.\n",
    "mpl.rcParams['axes.labelsize'] = 12.\n",
    "mpl.rcParams['xtick.labelsize'] = 10.\n",
    "mpl.rcParams['ytick.labelsize'] = 10.\n",
    "mpl.rcParams['xtick.minor.pad'] = 4\n",
    "mpl.rcParams['xtick.direction'] = 'out'\n",
    "mpl.rcParams['ytick.direction'] = 'out'\n",
    "\n",
    "#Git says this is patched, but it doesn't work from Pip --upgrade 26-mar-2015\n",
    "#mpl.rcParams['xtick.minor.visible'] = True  \n",
    "\n",
    "# These are the \"Tableau 20\" colors as RGB.  \n",
    "tableau20 = [(31, 119, 180), (174, 199, 232), (255, 127, 14),\n",
    "             (255, 187, 120), (44, 160, 44), (152, 223, 138),\n",
    "              (148, 103, 189),\n",
    "             (197, 176, 213), (140, 86, 75), (196, 156, 148),  \n",
    "             (227, 119, 194), (247, 182, 210), (127, 127, 127),\n",
    "             (199, 199, 199), (188, 189, 34), (219, 219, 141),\n",
    "             (23, 190, 207), (158, 218, 229),(214, 39, 40), (255, 152, 150)]  \n",
    "    \n",
    "# Scale the RGB values to the [0, 1] range,\n",
    "# which is the format matplotlib accepts.  \n",
    "for i in range(len(tableau20)): \n",
    "    r, g, b = tableau20[i]  \n",
    "    tableau20[i] = (r / 255., g / 255., b / 255.)  "
   ]
  },
  {
   "cell_type": "code",
   "execution_count": 21,
   "metadata": {
    "collapsed": true
   },
   "outputs": [],
   "source": [
    "import calc_enrich\n",
    "reload(calc_enrich)\n",
    "from calc_enrich import calc_del_U\n",
    "from calc_enrich import stages_per_cascade\n",
    "from calc_enrich import N_product_by_alpha\n",
    "from calc_enrich import N_waste_by_alpha\n",
    "from calc_enrich import machines_per_enr_stage\n",
    "from calc_enrich import machines_per_strip_stage\n",
    "from calc_enrich import product_per_enr_stage\n",
    "from calc_enrich import waste_per_strip_stage\n",
    "from calc_enrich import Npc_from_Nstages\n",
    "from calc_enrich import Nwc_from_Nstages\n",
    "from calc_enrich import machines_per_cascade\n",
    "from calc_enrich import allowed_feed_per_stage\n",
    "from calc_enrich import calc_feed_flows"
   ]
  },
  {
   "cell_type": "code",
   "execution_count": 22,
   "metadata": {
    "collapsed": false
   },
   "outputs": [],
   "source": [
    "# centrifuge params \n",
    "#omega = 64000\n",
    "#d = 0.1  # m \n",
    "#Z = 2.0   # m\n",
    "#F_m_hrs = 70 # grams/hr  \n",
    "#T = 320.0   # K\n",
    "#cut = 0.5\n",
    "eff = 1.0 # centrifuge efficiency\n",
    "\n",
    "d = 0.15  # m \n",
    "Z = 1.0   # m\n",
    "F_m_hrs = 15*60*60/(1e3) # grams/hr  \n",
    "T = 320.0# K\n",
    "cut = 0.5\n",
    "omega = 485/(d/2)\n",
    "\n",
    "# cascade params\n",
    "Nfc = 0.007\n",
    "Npc = 0.035\n",
    "Nwc = 0.003\n",
    "Fc_month = 739*10000 #kg/month\n",
    "\n",
    "# The feed enrichment to be used when using a cascade designed for LEU to produce HEU.\n",
    "Nfc_mod = 0.035\n",
    "Fc_month_mod = Fc_month #kg/month\n",
    "#Fc_month_mod = 46 #kg/month\n",
    "\n",
    "#unit conversions\n",
    "kg_sec2kg_month = 30.4*24*60*60\n",
    "v_a = omega * (d/2.0)\n",
    "F_m = F_m_hrs/(60*60*1000.0)\n",
    "Fc = Fc_month/kg_sec2kg_month\n",
    "Fc_mod = Fc_month_mod/kg_sec2kg_month\n",
    "\n",
    "# Comparison numbers (not needed for calculations)\n",
    "del_U_th_yr = 1.1 #swu/yr\n",
    "del_U_obs_yr = 0.71 #Swu/yr\n",
    "del_U_th = del_U_th_yr/(365.25*24*60*60) #kgSWU/sec\n",
    "del_U_obs = del_U_obs_yr/(365.25*24*60*60)\n",
    "\n",
    "Pc_month = 77 #kg/month\n",
    "Pc = Pc_month/kg_sec2kg_month\n",
    "\n",
    "qty_len = 6\n",
    "assay_len = 4"
   ]
  },
  {
   "cell_type": "code",
   "execution_count": 23,
   "metadata": {
    "collapsed": false
   },
   "outputs": [
    {
     "name": "stdout",
     "output_type": "stream",
     "text": [
      "del_U is 3.1939942861e-07  alpha is  1.34782845204\n",
      "desired Feed, product, waste 0.007 0.035 0.003\n",
      "4.70933434436 2.44752251091\n",
      "6 2\n"
     ]
    },
    {
     "data": {
      "text/plain": [
       "array([  3.75142138,   7.50284276,  11.25426413,   9.37855344,\n",
       "         7.50284276,   5.62713207,   3.75142138,   1.87571069])"
      ]
     },
     "execution_count": 23,
     "metadata": {},
     "output_type": "execute_result"
    }
   ],
   "source": [
    "alpha, del_U, del_U_yr = calc_del_U(v_a, Z, d, F_m, T, cut, eff)\n",
    "ideal_enrich_s, ideal_strip_s= stages_per_cascade(alpha, Nfc, Npc, Nwc)\n",
    "print \"del_U is\", del_U, \" alpha is \", alpha\n",
    "print \"desired Feed, product, waste\", Nfc, Npc, Nwc\n",
    "\n",
    "int_enrich_stage = int(ideal_enrich_s)+2\n",
    "int_strip_stage = int(ideal_strip_s)\n",
    "#feed_flows = calc_feed_flows(int(round(ideal_enrich_s)), int(round(ideal_strip_s)), Fc, cut)\n",
    "feed_flows = calc_feed_flows(int_enrich_stage, int_strip_stage, Fc, cut)\n",
    "print ideal_enrich_s,ideal_strip_s\n",
    "\n",
    "print int_enrich_stage, int_strip_stage\n",
    "feed_flows\n"
   ]
  },
  {
   "cell_type": "code",
   "execution_count": 24,
   "metadata": {
    "collapsed": false
   },
   "outputs": [
    {
     "name": "stdout",
     "output_type": "stream",
     "text": [
      "Stage   #Mach\t\t Feed\t    Product\t Waste\t   F_assay \tP_assay W_assay\n",
      "0 \t2131489.0 \t11.254264    5.640833    5.613431    0.007 \t0.0094 \t0.0052\n",
      "1 \t1776241.0 \t9.378553    4.704628    4.673925    0.0094 \t0.0126 \t0.007\n",
      "2 \t1420993.0 \t7.502843    3.76792    3.734923    0.0126 \t0.017 \t0.0094\n",
      "3 \t1065745.0 \t5.627132    2.830171    2.796961    0.017 \t0.0227 \t0.0126\n",
      "4 \t710496.0 \t3.751421    1.890544    1.860878    0.0227 \t0.0304 \t0.017\n",
      "5 \t355248.0 \t1.875711    0.947773    0.927938    0.0304 \t0.0405 \t0.0227\n"
     ]
    }
   ],
   "source": [
    "\n",
    "Nfs = Nfc\n",
    "print \"Stage   #Mach\\t\\t Feed\\t    Product\\t Waste\\t   F_assay \\tP_assay W_assay\"\n",
    "all_stages = []\n",
    "for stage_idx in range(int_enrich_stage):\n",
    "    curr_stage = stage_idx + int_strip_stage\n",
    "    Fs = feed_flows[curr_stage]\n",
    "    n_mach_enr = round(machines_per_enr_stage(alpha, del_U, Fs))\n",
    "    if (n_mach_enr <= 1):\n",
    "        int_mach = False\n",
    "    Nps = N_product_by_alpha(alpha, Nfs)\n",
    "    Ps = product_per_enr_stage(alpha, Nfs, Nps, Fs)\n",
    "    Ws = Fs - Ps\n",
    "    Nws = N_waste_by_alpha(alpha, Nfs)\n",
    "    all_stages.append([stage_idx, n_mach_enr, round(Fs, qty_len), \n",
    "                          round(Ps, qty_len), round(Ws, qty_len), round(Nfs, assay_len), \n",
    "                          round(Nps, assay_len), round(Nws, assay_len)])\n",
    "    if (stage_idx == 0):\n",
    "        W_enr1 = Ws\n",
    "        Nw_1 = Nws\n",
    "    print stage_idx, \"\\t\", n_mach_enr,\"\\t\", round(Fs,qty_len), \"  \",round(Ps, qty_len), \"  \",round(Ws, qty_len),\"  \", round(Nfs, assay_len), \"\\t\",round(Nps, assay_len),\"\\t\", round(Nws, assay_len)\n",
    "    Nfs = Nps\n",
    "\n",
    "## EQNS SEEM CORRECT BUT ARE UNDER-ESTIMATING BY ONE STAGE. WHY?"
   ]
  },
  {
   "cell_type": "code",
   "execution_count": 25,
   "metadata": {
    "collapsed": false
   },
   "outputs": [
    {
     "name": "stdout",
     "output_type": "stream",
     "text": [
      "Stage   #Mach\t\t Feed\t    Product\t Waste\t   F_assay \tP_assay W_assay\n",
      "-1 \t1420993.0 \t7.502843    2.453359    5.049483    0.0052 \t0.007 \t0.0039\n",
      "-2 \t710496.0 \t3.751421    1.225807    2.525614    0.0039 \t0.0052 \t0.0029\n"
     ]
    }
   ],
   "source": [
    "\n",
    "Nfs = Nw_1\n",
    "print \"Stage   #Mach\\t\\t Feed\\t    Product\\t Waste\\t   F_assay \\tP_assay W_assay\"\n",
    "for stage_idx in range(int_strip_stage-1,-1,-1):\n",
    "    curr_stage = stage_idx - int_strip_stage\n",
    "    Fs = feed_flows[stage_idx]\n",
    "    n_mach_strip = round(machines_per_strip_stage(alpha, del_U, Fs))\n",
    "    if (n_mach_enr <= 1):\n",
    "        int_mach = False\n",
    "    Nps = N_product_by_alpha(alpha, Nfs)\n",
    "    Nws = N_waste_by_alpha(alpha, Nfs)\n",
    "    Ws = waste_per_strip_stage(alpha, Nfs, Nws, Fs)\n",
    "    Ps = Fs - Ws\n",
    "    all_stages.insert(0,[(curr_stage), n_mach_strip, round(Fs, qty_len), \n",
    "                            round(Ps, qty_len), round(Ws, qty_len), round(Nfs, assay_len), \n",
    "                            round(Nps, assay_len), round(Nws, assay_len)])\n",
    "    print (curr_stage), \"\\t\",n_mach_strip ,\"\\t\", round(Fs,qty_len), \"  \",round(Ps, qty_len), \"  \",round(Ws, qty_len),\"  \", round(Nfs, assay_len), \"\\t\",round(Nps, assay_len),\"\\t\", round(Nws, assay_len)\n",
    "    Nfs = Nws\n"
   ]
  },
  {
   "cell_type": "code",
   "execution_count": 26,
   "metadata": {
    "collapsed": false
   },
   "outputs": [
    {
     "data": {
      "text/plain": [
       "[[-2, 710496.0, 3.751421, 1.225807, 2.525614, 0.0039, 0.0052, 0.0029],\n",
       " [-1, 1420993.0, 7.502843, 2.453359, 5.049483, 0.0052, 0.007, 0.0039],\n",
       " [0, 2131489.0, 11.254264, 5.640833, 5.613431, 0.007, 0.0094, 0.0052],\n",
       " [1, 1776241.0, 9.378553, 4.704628, 4.673925, 0.0094, 0.0126, 0.007],\n",
       " [2, 1420993.0, 7.502843, 3.76792, 3.734923, 0.0126, 0.017, 0.0094],\n",
       " [3, 1065745.0, 5.627132, 2.830171, 2.796961, 0.017, 0.0227, 0.0126],\n",
       " [4, 710496.0, 3.751421, 1.890544, 1.860878, 0.0227, 0.0304, 0.017],\n",
       " [5, 355248.0, 1.875711, 0.947773, 0.927938, 0.0304, 0.0405, 0.0227]]"
      ]
     },
     "execution_count": 26,
     "metadata": {},
     "output_type": "execute_result"
    }
   ],
   "source": [
    "all_stages\n"
   ]
  },
  {
   "cell_type": "code",
   "execution_count": 27,
   "metadata": {
    "collapsed": false
   },
   "outputs": [
    {
     "data": {
      "text/plain": [
       "(2.813566, 0.947773, 2.525614, -0.6598210000000002)"
      ]
     },
     "execution_count": 27,
     "metadata": {},
     "output_type": "execute_result"
    }
   ],
   "source": [
    "final_w = all_stages[0][4]\n",
    "final_p = all_stages[len(all_stages)-1][3]\n",
    "final_f = round(Fc,qty_len)\n",
    "\n",
    "\n",
    "res = final_f - final_p - final_w\n",
    "final_f, final_p, final_w, res"
   ]
  },
  {
   "cell_type": "code",
   "execution_count": null,
   "metadata": {
    "collapsed": true
   },
   "outputs": [],
   "source": []
  },
  {
   "cell_type": "code",
   "execution_count": null,
   "metadata": {
    "collapsed": true
   },
   "outputs": [],
   "source": []
  }
 ],
 "metadata": {
  "kernelspec": {
   "display_name": "Python 2",
   "language": "python",
   "name": "python2"
  },
  "language_info": {
   "codemirror_mode": {
    "name": "ipython",
    "version": 2
   },
   "file_extension": ".py",
   "mimetype": "text/x-python",
   "name": "python",
   "nbconvert_exporter": "python",
   "pygments_lexer": "ipython2",
   "version": "2.7.10"
  }
 },
 "nbformat": 4,
 "nbformat_minor": 0
}
